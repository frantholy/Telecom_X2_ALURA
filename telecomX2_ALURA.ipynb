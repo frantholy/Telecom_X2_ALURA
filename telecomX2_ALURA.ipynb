{
  "cells": [
    {
      "cell_type": "markdown",
      "metadata": {
        "id": "view-in-github",
        "colab_type": "text"
      },
      "source": [
        "<a href=\"https://colab.research.google.com/github/frantholy/Telecom_X2_ALURA/blob/main/telecomX2_ALURA.ipynb\" target=\"_parent\"><img src=\"https://colab.research.google.com/assets/colab-badge.svg\" alt=\"Open In Colab\"/></a>"
      ]
    },
    {
      "cell_type": "markdown",
      "id": "8433cbef-7489-461d-94bb-55abcd6ef09f",
      "metadata": {
        "id": "8433cbef-7489-461d-94bb-55abcd6ef09f"
      },
      "source": [
        "-----------------------------------------------------------\n",
        "\n",
        "## 📝 INTRODUCCIÓN CHALLENGE TELECOM X PARTE II - ALURA LATAM:\n",
        "\n",
        "En esta parte 2 del proyecto se busca realizar un modelado predictivo para anticipar la cancelación de clientes en una empresa de telecomunicaciones. Buscando entender los factores que influyen en el abandono y proponer estrategias de retención efectivas.\n",
        "\n",
        "-------------------------------"
      ]
    },
    {
      "cell_type": "markdown",
      "id": "f0b97978-73e7-45ea-8969-b2c488fe1694",
      "metadata": {
        "id": "f0b97978-73e7-45ea-8969-b2c488fe1694"
      },
      "source": [
        "### IMPORTAR LIBRERIAS"
      ]
    },
    {
      "cell_type": "code",
      "execution_count": null,
      "id": "f99201e3-d2e4-46ef-adc1-3e5c2c5c94aa",
      "metadata": {
        "id": "f99201e3-d2e4-46ef-adc1-3e5c2c5c94aa"
      },
      "outputs": [],
      "source": [
        "## Se importan las librerías esenciales.\n",
        "import pandas as pd\n",
        "import matplotlib.pyplot as plt\n",
        "import seaborn as sns\n",
        "import numpy as np\n",
        "\n",
        "from sklearn.preprocessing import StandardScaler\n",
        "from sklearn.model_selection import train_test_split\n",
        "from sklearn.model_selection import train_test_split\n",
        "from sklearn.model_selection import GridSearchCV\n",
        "from imblearn.over_sampling import SMOTE\n",
        "from sklearn.tree import DecisionTreeClassifier\n",
        "from sklearn.ensemble import RandomForestClassifier\n",
        "from sklearn.linear_model import LogisticRegression\n",
        "from sklearn.svm import SVC\n",
        "from sklearn.metrics import classification_report, confusion_matrix, ConfusionMatrixDisplay, f1_score\n",
        "from sklearn.metrics import roc_auc_score, roc_curve\n",
        "from sklearn.metrics import accuracy_score, precision_score, recall_score, f1_score, roc_auc_score\n",
        "from IPython.display import display, HTML\n",
        "from sklearn.linear_model import LogisticRegression\n",
        "from sklearn.neighbors import KNeighborsClassifier\n",
        "from sklearn.tree import DecisionTreeClassifier\n",
        "\n",
        "from sklearn.model_selection import GridSearchCV\n",
        "from sklearn.metrics import classification_report, confusion_matrix, accuracy_score\n",
        "\n",
        "from IPython.display import display, HTML\n",
        "import warnings\n",
        "warnings.filterwarnings('ignore')"
      ]
    },
    {
      "cell_type": "markdown",
      "id": "107df59d-1b30-4d4e-baa2-fd15ef999627",
      "metadata": {
        "id": "107df59d-1b30-4d4e-baa2-fd15ef999627"
      },
      "source": [
        "### CARGAR ARCHIVO Y CREAR DATASET\n",
        "\n",
        "Cargamos el df tratado de la parte N°1 del Challenge Telecom X."
      ]
    },
    {
      "cell_type": "code",
      "execution_count": null,
      "id": "02467d7c-8a09-4345-8456-bc51fd95d077",
      "metadata": {
        "id": "02467d7c-8a09-4345-8456-bc51fd95d077",
        "outputId": "867b3833-15a0-4d8e-c5c6-27890c809fc4"
      },
      "outputs": [
        {
          "data": {
            "text/html": [
              "<div>\n",
              "<style scoped>\n",
              "    .dataframe tbody tr th:only-of-type {\n",
              "        vertical-align: middle;\n",
              "    }\n",
              "\n",
              "    .dataframe tbody tr th {\n",
              "        vertical-align: top;\n",
              "    }\n",
              "\n",
              "    .dataframe thead th {\n",
              "        text-align: right;\n",
              "    }\n",
              "</style>\n",
              "<table border=\"1\" class=\"dataframe\">\n",
              "  <thead>\n",
              "    <tr style=\"text-align: right;\">\n",
              "      <th></th>\n",
              "      <th>Churn</th>\n",
              "      <th>gender</th>\n",
              "      <th>SeniorCitizen</th>\n",
              "      <th>Partner</th>\n",
              "      <th>Dependents</th>\n",
              "      <th>tenure</th>\n",
              "      <th>PhoneService</th>\n",
              "      <th>MultipleLines</th>\n",
              "      <th>OnlineSecurity</th>\n",
              "      <th>OnlineBackup</th>\n",
              "      <th>...</th>\n",
              "      <th>PaperlessBilling</th>\n",
              "      <th>MonthlyCharges</th>\n",
              "      <th>TotalCharges</th>\n",
              "      <th>InternetService_Fiber optic</th>\n",
              "      <th>InternetService_No</th>\n",
              "      <th>Contract_One year</th>\n",
              "      <th>Contract_Two year</th>\n",
              "      <th>PaymentMethod_Credit card (automatic)</th>\n",
              "      <th>PaymentMethod_Electronic check</th>\n",
              "      <th>PaymentMethod_Mailed check</th>\n",
              "    </tr>\n",
              "  </thead>\n",
              "  <tbody>\n",
              "    <tr>\n",
              "      <th>0</th>\n",
              "      <td>0</td>\n",
              "      <td>0</td>\n",
              "      <td>0</td>\n",
              "      <td>1</td>\n",
              "      <td>1</td>\n",
              "      <td>9</td>\n",
              "      <td>1</td>\n",
              "      <td>0</td>\n",
              "      <td>0</td>\n",
              "      <td>1</td>\n",
              "      <td>...</td>\n",
              "      <td>1</td>\n",
              "      <td>65.6</td>\n",
              "      <td>593.30</td>\n",
              "      <td>0</td>\n",
              "      <td>0</td>\n",
              "      <td>1</td>\n",
              "      <td>0</td>\n",
              "      <td>0</td>\n",
              "      <td>0</td>\n",
              "      <td>1</td>\n",
              "    </tr>\n",
              "    <tr>\n",
              "      <th>1</th>\n",
              "      <td>0</td>\n",
              "      <td>1</td>\n",
              "      <td>0</td>\n",
              "      <td>0</td>\n",
              "      <td>0</td>\n",
              "      <td>9</td>\n",
              "      <td>1</td>\n",
              "      <td>1</td>\n",
              "      <td>0</td>\n",
              "      <td>0</td>\n",
              "      <td>...</td>\n",
              "      <td>0</td>\n",
              "      <td>59.9</td>\n",
              "      <td>542.40</td>\n",
              "      <td>0</td>\n",
              "      <td>0</td>\n",
              "      <td>0</td>\n",
              "      <td>0</td>\n",
              "      <td>0</td>\n",
              "      <td>0</td>\n",
              "      <td>1</td>\n",
              "    </tr>\n",
              "    <tr>\n",
              "      <th>2</th>\n",
              "      <td>1</td>\n",
              "      <td>1</td>\n",
              "      <td>0</td>\n",
              "      <td>0</td>\n",
              "      <td>0</td>\n",
              "      <td>4</td>\n",
              "      <td>1</td>\n",
              "      <td>0</td>\n",
              "      <td>0</td>\n",
              "      <td>0</td>\n",
              "      <td>...</td>\n",
              "      <td>1</td>\n",
              "      <td>73.9</td>\n",
              "      <td>280.85</td>\n",
              "      <td>1</td>\n",
              "      <td>0</td>\n",
              "      <td>0</td>\n",
              "      <td>0</td>\n",
              "      <td>0</td>\n",
              "      <td>1</td>\n",
              "      <td>0</td>\n",
              "    </tr>\n",
              "    <tr>\n",
              "      <th>3</th>\n",
              "      <td>1</td>\n",
              "      <td>1</td>\n",
              "      <td>1</td>\n",
              "      <td>1</td>\n",
              "      <td>0</td>\n",
              "      <td>13</td>\n",
              "      <td>1</td>\n",
              "      <td>0</td>\n",
              "      <td>0</td>\n",
              "      <td>1</td>\n",
              "      <td>...</td>\n",
              "      <td>1</td>\n",
              "      <td>98.0</td>\n",
              "      <td>1237.85</td>\n",
              "      <td>1</td>\n",
              "      <td>0</td>\n",
              "      <td>0</td>\n",
              "      <td>0</td>\n",
              "      <td>0</td>\n",
              "      <td>1</td>\n",
              "      <td>0</td>\n",
              "    </tr>\n",
              "    <tr>\n",
              "      <th>4</th>\n",
              "      <td>1</td>\n",
              "      <td>0</td>\n",
              "      <td>1</td>\n",
              "      <td>1</td>\n",
              "      <td>0</td>\n",
              "      <td>3</td>\n",
              "      <td>1</td>\n",
              "      <td>0</td>\n",
              "      <td>0</td>\n",
              "      <td>0</td>\n",
              "      <td>...</td>\n",
              "      <td>1</td>\n",
              "      <td>83.9</td>\n",
              "      <td>267.40</td>\n",
              "      <td>1</td>\n",
              "      <td>0</td>\n",
              "      <td>0</td>\n",
              "      <td>0</td>\n",
              "      <td>0</td>\n",
              "      <td>0</td>\n",
              "      <td>1</td>\n",
              "    </tr>\n",
              "  </tbody>\n",
              "</table>\n",
              "<p>5 rows × 24 columns</p>\n",
              "</div>"
            ],
            "text/plain": [
              "   Churn  gender  SeniorCitizen  Partner  Dependents  tenure  PhoneService  \\\n",
              "0      0       0              0        1           1       9             1   \n",
              "1      0       1              0        0           0       9             1   \n",
              "2      1       1              0        0           0       4             1   \n",
              "3      1       1              1        1           0      13             1   \n",
              "4      1       0              1        1           0       3             1   \n",
              "\n",
              "   MultipleLines  OnlineSecurity  OnlineBackup  ...  PaperlessBilling  \\\n",
              "0              0               0             1  ...                 1   \n",
              "1              1               0             0  ...                 0   \n",
              "2              0               0             0  ...                 1   \n",
              "3              0               0             1  ...                 1   \n",
              "4              0               0             0  ...                 1   \n",
              "\n",
              "   MonthlyCharges  TotalCharges  InternetService_Fiber optic  \\\n",
              "0            65.6        593.30                            0   \n",
              "1            59.9        542.40                            0   \n",
              "2            73.9        280.85                            1   \n",
              "3            98.0       1237.85                            1   \n",
              "4            83.9        267.40                            1   \n",
              "\n",
              "   InternetService_No  Contract_One year  Contract_Two year  \\\n",
              "0                   0                  1                  0   \n",
              "1                   0                  0                  0   \n",
              "2                   0                  0                  0   \n",
              "3                   0                  0                  0   \n",
              "4                   0                  0                  0   \n",
              "\n",
              "   PaymentMethod_Credit card (automatic)  PaymentMethod_Electronic check  \\\n",
              "0                                      0                               0   \n",
              "1                                      0                               0   \n",
              "2                                      0                               1   \n",
              "3                                      0                               1   \n",
              "4                                      0                               0   \n",
              "\n",
              "   PaymentMethod_Mailed check  \n",
              "0                           1  \n",
              "1                           1  \n",
              "2                           0  \n",
              "3                           0  \n",
              "4                           1  \n",
              "\n",
              "[5 rows x 24 columns]"
            ]
          },
          "execution_count": 2,
          "metadata": {},
          "output_type": "execute_result"
        }
      ],
      "source": [
        "## Importamos el df tratado.\n",
        "url = \"https://raw.githubusercontent.com/frantholy/Telecom_X2_ALURA/main/df_tratado.csv\"\n",
        "df = pd.read_csv(url)\n",
        "\n",
        "# Verificar que se cargó correctamente\n",
        "df.head()"
      ]
    },
    {
      "cell_type": "code",
      "execution_count": null,
      "id": "08f0275e-2480-45a0-bb89-5f73868aeddc",
      "metadata": {
        "id": "08f0275e-2480-45a0-bb89-5f73868aeddc",
        "outputId": "8c062de0-661d-4ba4-d346-24924f91aa7f"
      },
      "outputs": [
        {
          "name": "stdout",
          "output_type": "stream",
          "text": [
            "<class 'pandas.core.frame.DataFrame'>\n",
            "RangeIndex: 7032 entries, 0 to 7031\n",
            "Data columns (total 24 columns):\n",
            " #   Column                                 Non-Null Count  Dtype  \n",
            "---  ------                                 --------------  -----  \n",
            " 0   Churn                                  7032 non-null   int64  \n",
            " 1   gender                                 7032 non-null   int64  \n",
            " 2   SeniorCitizen                          7032 non-null   int64  \n",
            " 3   Partner                                7032 non-null   int64  \n",
            " 4   Dependents                             7032 non-null   int64  \n",
            " 5   tenure                                 7032 non-null   int64  \n",
            " 6   PhoneService                           7032 non-null   int64  \n",
            " 7   MultipleLines                          7032 non-null   int64  \n",
            " 8   OnlineSecurity                         7032 non-null   int64  \n",
            " 9   OnlineBackup                           7032 non-null   int64  \n",
            " 10  DeviceProtection                       7032 non-null   int64  \n",
            " 11  TechSupport                            7032 non-null   int64  \n",
            " 12  StreamingTV                            7032 non-null   int64  \n",
            " 13  StreamingMovies                        7032 non-null   int64  \n",
            " 14  PaperlessBilling                       7032 non-null   int64  \n",
            " 15  MonthlyCharges                         7032 non-null   float64\n",
            " 16  TotalCharges                           7032 non-null   float64\n",
            " 17  InternetService_Fiber optic            7032 non-null   int64  \n",
            " 18  InternetService_No                     7032 non-null   int64  \n",
            " 19  Contract_One year                      7032 non-null   int64  \n",
            " 20  Contract_Two year                      7032 non-null   int64  \n",
            " 21  PaymentMethod_Credit card (automatic)  7032 non-null   int64  \n",
            " 22  PaymentMethod_Electronic check         7032 non-null   int64  \n",
            " 23  PaymentMethod_Mailed check             7032 non-null   int64  \n",
            "dtypes: float64(2), int64(22)\n",
            "memory usage: 1.3 MB\n"
          ]
        }
      ],
      "source": [
        "# Información general.\n",
        "df.info()"
      ]
    },
    {
      "cell_type": "markdown",
      "id": "6193f18b-cd95-4a27-8ce6-8d1f1788df06",
      "metadata": {
        "id": "6193f18b-cd95-4a27-8ce6-8d1f1788df06"
      },
      "source": [
        "### DISTRIBUCIÓN DE VARIABLE OBJETIVO"
      ]
    },
    {
      "cell_type": "code",
      "execution_count": null,
      "id": "6b13829d-82e6-447e-a5e6-d7b87d024cc5",
      "metadata": {
        "id": "6b13829d-82e6-447e-a5e6-d7b87d024cc5",
        "outputId": "36498874-4d19-48da-d780-43b1c4b54b1b"
      },
      "outputs": [
        {
          "data": {
            "image/png": "[encoded data removed]",
            "text/plain": [
              "<Figure size 640x480 with 1 Axes>"
            ]
          },
          "metadata": {},
          "output_type": "display_data"
        }
      ],
      "source": [
        "# Crear gráfico\n",
        "ax = sns.countplot(x='Churn', data=df, palette='pastel')\n",
        "\n",
        "# Calcular totales\n",
        "total = len(df)\n",
        "\n",
        "# Agregar título y etiquetas\n",
        "plt.title('Distribución de la variable objetivo: Churn (0 = No, 1 = Sí)')\n",
        "plt.xlabel('Churn')\n",
        "plt.ylabel('Cantidad')\n",
        "\n",
        "# Agregar etiquetas de conteo + porcentaje\n",
        "for container in ax.containers:\n",
        "    ax.bar_label(container, labels=[\n",
        "        f'{int(c.get_height())} ({c.get_height()/total:.1%})'\n",
        "        for c in container\n",
        "    ])\n",
        "\n",
        "plt.show()"
      ]
    },
    {
      "cell_type": "markdown",
      "id": "fdb6e4a0-f083-48dd-ae61-c1b1510befbb",
      "metadata": {
        "id": "fdb6e4a0-f083-48dd-ae61-c1b1510befbb"
      },
      "source": [
        "🔍 **Análisis de distribución de la variable objetivo:**\n",
        "\n",
        "La variable objtivo se encuentra desbalanceada, esto podría afectar al rendimiento de los modelos, es por esto que es bueno considerar técnicas de balanceo como SMOTE antes de entrenar.\n",
        "\n",
        "* Aproximadamente el **73.4%** de los clientes NO renuncian **(Churn = 0)**.\n",
        "* Aproximadamente el **26.6%** sí renuncia **(Churn = 1)**."
      ]
    },
    {
      "cell_type": "markdown",
      "id": "d0eea2c7-d126-43e9-a102-09af94734b39",
      "metadata": {
        "id": "d0eea2c7-d126-43e9-a102-09af94734b39"
      },
      "source": [
        "### ESCALAR VARIABLES NÚMERICAS"
      ]
    },
    {
      "cell_type": "code",
      "execution_count": null,
      "id": "7e138c60-a63c-4960-90c8-35b48d9d3a36",
      "metadata": {
        "id": "7e138c60-a63c-4960-90c8-35b48d9d3a36",
        "outputId": "c303703a-8009-45ad-f263-b4fef73ff1d8"
      },
      "outputs": [
        {
          "data": {
            "image/png": "[encoded data removed]",
            "text/plain": [
              "<Figure size 1600x400 with 3 Axes>"
            ]
          },
          "metadata": {},
          "output_type": "display_data"
        }
      ],
      "source": [
        "# Columnas numéricas a escalar\n",
        "numeric_cols = ['tenure', 'MonthlyCharges', 'TotalCharges']\n",
        "\n",
        "# Instanciar el escalador\n",
        "scaler = StandardScaler()\n",
        "\n",
        "# Ajustar y transformar\n",
        "df[numeric_cols] = scaler.fit_transform(df[numeric_cols])\n",
        "\n",
        "# Detección de outliers con boxplots.\n",
        "plt.figure(figsize=(16, 4))\n",
        "for i, col in enumerate(['tenure', 'MonthlyCharges', 'TotalCharges']):\n",
        "    plt.subplot(1, 3, i + 1)\n",
        "    sns.boxplot(y=df[col], color='lightblue')\n",
        "    plt.title(f'Boxplot de {col}')\n",
        "plt.tight_layout()\n",
        "plt.show()"
      ]
    },
    {
      "cell_type": "markdown",
      "id": "bba07ca0-0e5b-4914-b53c-b3ee73e58ca2",
      "metadata": {
        "id": "bba07ca0-0e5b-4914-b53c-b3ee73e58ca2"
      },
      "source": [
        "### DIVIDIR DATOS EN CONJUNTOS DE ENTRENAMIENTO Y DE PRUEBA"
      ]
    },
    {
      "cell_type": "code",
      "execution_count": null,
      "id": "f0e08309-c030-48d7-9ac7-cafb23ac55f6",
      "metadata": {
        "id": "f0e08309-c030-48d7-9ac7-cafb23ac55f6",
        "outputId": "4f06396b-b3ea-4a48-fd8f-bb5b0ac554dd"
      },
      "outputs": [
        {
          "name": "stdout",
          "output_type": "stream",
          "text": [
            "Tamaño total: (7032, 23)\n",
            "Tamaño entrenamiento: (5625, 23)\n",
            "Tamaño prueba: (1407, 23)\n"
          ]
        }
      ],
      "source": [
        "# Variables independientes (features)\n",
        "X = df.drop('Churn', axis=1)\n",
        "\n",
        "# Variable dependiente (target)\n",
        "y = df['Churn']\n",
        "\n",
        "# División 80/20 con estratificación\n",
        "X_train, X_test, y_train, y_test = train_test_split(\n",
        "    X, y, test_size=0.2, random_state=42, stratify=y\n",
        ")\n",
        "\n",
        "# Verificación.\n",
        "print(f\"Tamaño total: {X.shape}\")\n",
        "print(f\"Tamaño entrenamiento: {X_train.shape}\")\n",
        "print(f\"Tamaño prueba: {X_test.shape}\")"
      ]
    },
    {
      "cell_type": "markdown",
      "id": "0107f80d-2515-46af-9937-aa52e08eeadf",
      "metadata": {
        "id": "0107f80d-2515-46af-9937-aa52e08eeadf"
      },
      "source": [
        "### BALANCEAMOS CON SMOTE"
      ]
    },
    {
      "cell_type": "code",
      "execution_count": null,
      "id": "6d756614-1fc5-49fc-a1fe-ac3d59c7d164",
      "metadata": {
        "id": "6d756614-1fc5-49fc-a1fe-ac3d59c7d164",
        "outputId": "d5e087cf-8fd4-49e5-e8fc-b7d509e1857a"
      },
      "outputs": [
        {
          "data": {
            "text/html": [
              "<h5><b> Distribución después de SMOTE: </b></h5>"
            ],
            "text/plain": [
              "<IPython.core.display.HTML object>"
            ]
          },
          "metadata": {},
          "output_type": "display_data"
        },
        {
          "name": "stdout",
          "output_type": "stream",
          "text": [
            "0    4130\n",
            "1    4130\n",
            "Name: Churn, dtype: int64\n"
          ]
        }
      ],
      "source": [
        "# Aplicar SMOTE\n",
        "smote = SMOTE(random_state=42)\n",
        "X_train_sm, y_train_sm = smote.fit_resample(X_train, y_train)\n",
        "\n",
        "# Verificamos balance\n",
        "display(HTML(f\"<h5><b> Distribución después de SMOTE: </b></h5>\"))\n",
        "print(y_train_sm.value_counts())"
      ]
    },
    {
      "cell_type": "markdown",
      "id": "ef9ad801-7f2c-4478-999d-dc77417dfaca",
      "metadata": {
        "id": "ef9ad801-7f2c-4478-999d-dc77417dfaca"
      },
      "source": [
        "### MODELO N°1: REGRESIÓN LOGÍSTICA"
      ]
    },
    {
      "cell_type": "code",
      "execution_count": null,
      "id": "34a3fac1-316f-4755-a9e9-e04016a91253",
      "metadata": {
        "id": "34a3fac1-316f-4755-a9e9-e04016a91253",
        "outputId": "0cee7ea5-87bb-42dc-aa5d-93dc7f847ec0"
      },
      "outputs": [
        {
          "name": "stdout",
          "output_type": "stream",
          "text": [
            "📌 Mejores hiperparámetros (Regresión Logística):\n",
            "{'C': 10, 'solver': 'lbfgs'}\n",
            "\n",
            "✅ Puntaje promedio en validación cruzada (CV):\n",
            "0.8021\n",
            "\n",
            "🧪 Precisión en el conjunto de prueba:\n",
            "0.7676\n",
            "\n",
            "📊 Matriz de confusión:\n",
            "[[799 234]\n",
            " [ 93 281]]\n",
            "\n",
            "📄 Reporte de clasificación:\n",
            "              precision    recall  f1-score   support\n",
            "\n",
            "           0       0.90      0.77      0.83      1033\n",
            "           1       0.55      0.75      0.63       374\n",
            "\n",
            "    accuracy                           0.77      1407\n",
            "   macro avg       0.72      0.76      0.73      1407\n",
            "weighted avg       0.80      0.77      0.78      1407\n",
            "\n"
          ]
        }
      ],
      "source": [
        "# Instanciar GridSearchCV para Regresión Logística\n",
        "# -----------------------------\n",
        "log_model = LogisticRegression(max_iter=1000)\n",
        "\n",
        "log_params = {\n",
        "    'C': [0.01, 0.1, 1, 10],\n",
        "    'solver': ['liblinear', 'lbfgs']\n",
        "}\n",
        "\n",
        "log_grid = GridSearchCV(log_model, log_params, cv=5, scoring='accuracy', n_jobs=-1)\n",
        "\n",
        "# Ajustar con datos balanceados\n",
        "log_grid.fit(X_train_sm, y_train_sm)\n",
        "\n",
        "# -----------------------------\n",
        "# Resultados del GridSearch\n",
        "# -----------------------------\n",
        "print(\"📌 Mejores hiperparámetros (Regresión Logística):\")\n",
        "print(log_grid.best_params_)\n",
        "\n",
        "print(\"\\n✅ Puntaje promedio en validación cruzada (CV):\")\n",
        "print(f\"{log_grid.best_score_:.4f}\")\n",
        "\n",
        "# -----------------------------\n",
        "# Evaluación en conjunto de prueba\n",
        "# -----------------------------\n",
        "y_pred = log_grid.predict(X_test)\n",
        "\n",
        "print(\"\\n🧪 Precisión en el conjunto de prueba:\")\n",
        "print(f\"{log_grid.score(X_test, y_test):.4f}\")\n",
        "\n",
        "print(\"\\n📊 Matriz de confusión:\")\n",
        "print(confusion_matrix(y_test, y_pred))\n",
        "\n",
        "print(\"\\n📄 Reporte de clasificación:\")\n",
        "print(classification_report(y_test, y_pred))"
      ]
    },
    {
      "cell_type": "markdown",
      "id": "e1e2cf97-e6b3-4746-bbb3-ce7794846416",
      "metadata": {
        "id": "e1e2cf97-e6b3-4746-bbb3-ce7794846416"
      },
      "source": [
        "### MODELO N°2: KNN"
      ]
    },
    {
      "cell_type": "code",
      "execution_count": null,
      "id": "2544ae85-f18b-4919-ae25-2c7705528c20",
      "metadata": {
        "id": "2544ae85-f18b-4919-ae25-2c7705528c20",
        "outputId": "c51d396c-2798-480c-9a44-b5047e3a2b82"
      },
      "outputs": [
        {
          "name": "stdout",
          "output_type": "stream",
          "text": [
            "📌 Mejores hiperparámetros (KNN):\n",
            "{'metric': 'manhattan', 'n_neighbors': 3, 'weights': 'distance'}\n",
            "\n",
            "✅ Puntaje promedio en validación cruzada (CV):\n",
            "0.8167\n",
            "\n",
            "🧪 Precisión en el conjunto de prueba:\n",
            "0.7143\n",
            "\n",
            "📊 Matriz de confusión:\n",
            "[[766 267]\n",
            " [135 239]]\n",
            "\n",
            "📄 Reporte de clasificación:\n",
            "              precision    recall  f1-score   support\n",
            "\n",
            "           0       0.85      0.74      0.79      1033\n",
            "           1       0.47      0.64      0.54       374\n",
            "\n",
            "    accuracy                           0.71      1407\n",
            "   macro avg       0.66      0.69      0.67      1407\n",
            "weighted avg       0.75      0.71      0.73      1407\n",
            "\n"
          ]
        }
      ],
      "source": [
        "# Instanciar GridSearchCV para KNN\n",
        "# -----------------------------\n",
        "knn_model = KNeighborsClassifier()\n",
        "\n",
        "knn_params = {\n",
        "    'n_neighbors': list(range(3, 21, 2)),  # valores impares\n",
        "    'weights': ['uniform', 'distance'],\n",
        "    'metric': ['euclidean', 'manhattan', 'minkowski']\n",
        "}\n",
        "\n",
        "knn_grid = GridSearchCV(knn_model, knn_params, cv=5, scoring='accuracy', n_jobs=-1)\n",
        "\n",
        "# Ajustar con datos balanceados\n",
        "knn_grid.fit(X_train_sm, y_train_sm)\n",
        "\n",
        "# -----------------------------\n",
        "# Resultados del GridSearch\n",
        "# -----------------------------\n",
        "print(\"📌 Mejores hiperparámetros (KNN):\")\n",
        "print(knn_grid.best_params_)\n",
        "\n",
        "print(\"\\n✅ Puntaje promedio en validación cruzada (CV):\")\n",
        "print(f\"{knn_grid.best_score_:.4f}\")\n",
        "\n",
        "# -----------------------------\n",
        "# Evaluación en conjunto de prueba\n",
        "# -----------------------------\n",
        "y_pred = knn_grid.predict(X_test)\n",
        "\n",
        "print(\"\\n🧪 Precisión en el conjunto de prueba:\")\n",
        "print(f\"{knn_grid.score(X_test, y_test):.4f}\")\n",
        "\n",
        "print(\"\\n📊 Matriz de confusión:\")\n",
        "print(confusion_matrix(y_test, y_pred))\n",
        "\n",
        "print(\"\\n📄 Reporte de clasificación:\")\n",
        "print(classification_report(y_test, y_pred))"
      ]
    },
    {
      "cell_type": "markdown",
      "id": "9d4079e2-abd4-41f6-948b-9e729a09dbe1",
      "metadata": {
        "id": "9d4079e2-abd4-41f6-948b-9e729a09dbe1"
      },
      "source": [
        "### MODELO N°3: ÁRBOL DE DECISIÓN"
      ]
    },
    {
      "cell_type": "code",
      "execution_count": null,
      "id": "8a9c926e-4bf0-428a-9ed8-813550e65ec1",
      "metadata": {
        "id": "8a9c926e-4bf0-428a-9ed8-813550e65ec1",
        "outputId": "f6de0cb5-7ffd-4fd1-a3cd-bfee980e1b6f"
      },
      "outputs": [
        {
          "name": "stdout",
          "output_type": "stream",
          "text": [
            "📌 Mejores hiperparámetros (Árbol de Decisión):\n",
            "{'criterion': 'gini', 'max_depth': 10, 'min_samples_leaf': 1, 'min_samples_split': 2}\n",
            "\n",
            "✅ Puntaje promedio en validación cruzada (CV):\n",
            "0.7827\n",
            "\n",
            "🧪 Precisión en el conjunto de prueba:\n",
            "0.7249\n",
            "\n",
            "📊 Matriz de confusión:\n",
            "[[750 283]\n",
            " [104 270]]\n",
            "\n",
            "📄 Reporte de clasificación:\n",
            "              precision    recall  f1-score   support\n",
            "\n",
            "           0       0.88      0.73      0.79      1033\n",
            "           1       0.49      0.72      0.58       374\n",
            "\n",
            "    accuracy                           0.72      1407\n",
            "   macro avg       0.68      0.72      0.69      1407\n",
            "weighted avg       0.77      0.72      0.74      1407\n",
            "\n"
          ]
        }
      ],
      "source": [
        "# -----------------------------\n",
        "# Instanciar GridSearchCV para Árbol de Decisión\n",
        "# -----------------------------\n",
        "tree_model = DecisionTreeClassifier(random_state=42)\n",
        "\n",
        "tree_params = {\n",
        "    'max_depth': [3, 5, 10, None],\n",
        "    'min_samples_split': [2, 5, 10],\n",
        "    'min_samples_leaf': [1, 5, 10],\n",
        "    'criterion': ['gini', 'entropy']\n",
        "}\n",
        "\n",
        "tree_grid = GridSearchCV(tree_model, tree_params, cv=5, scoring='accuracy', n_jobs=-1)\n",
        "\n",
        "# Ajustar con datos balanceados\n",
        "tree_grid.fit(X_train_sm, y_train_sm)\n",
        "\n",
        "# -----------------------------\n",
        "# Resultados del GridSearch\n",
        "# -----------------------------\n",
        "print(\"📌 Mejores hiperparámetros (Árbol de Decisión):\")\n",
        "print(tree_grid.best_params_)\n",
        "\n",
        "print(\"\\n✅ Puntaje promedio en validación cruzada (CV):\")\n",
        "print(f\"{tree_grid.best_score_:.4f}\")\n",
        "\n",
        "# -----------------------------\n",
        "# Evaluación en conjunto de prueba\n",
        "# -----------------------------\n",
        "y_pred = tree_grid.predict(X_test)\n",
        "\n",
        "print(\"\\n🧪 Precisión en el conjunto de prueba:\")\n",
        "print(f\"{tree_grid.score(X_test, y_test):.4f}\")\n",
        "\n",
        "print(\"\\n📊 Matriz de confusión:\")\n",
        "print(confusion_matrix(y_test, y_pred))\n",
        "\n",
        "print(\"\\n📄 Reporte de clasificación:\")\n",
        "print(classification_report(y_test, y_pred))"
      ]
    },
    {
      "cell_type": "markdown",
      "id": "dd127e91-adf5-4367-9836-0f0e6315d5f5",
      "metadata": {
        "id": "dd127e91-adf5-4367-9836-0f0e6315d5f5"
      },
      "source": [
        "### MODELO N°4: SVM"
      ]
    },
    {
      "cell_type": "code",
      "execution_count": null,
      "id": "2633a7a6-57da-4eca-bfbe-6597847cd3f3",
      "metadata": {
        "id": "2633a7a6-57da-4eca-bfbe-6597847cd3f3",
        "outputId": "42adc234-3053-4591-fd05-ee040b87babd"
      },
      "outputs": [
        {
          "name": "stdout",
          "output_type": "stream",
          "text": [
            "📌 Mejor combinación de hiperparámetros (SVM): {'C': 10, 'gamma': 'scale', 'kernel': 'rbf'}\n",
            "\n",
            "✅ Puntaje promedio en validación cruzada (CV):\n",
            "0.8235\n",
            "\n",
            "🧪 Precisión en el conjunto de prueba:\n",
            "0.5960\n",
            "\n",
            "📊 Matriz de confusión:\n",
            "[[804 229]\n",
            " [118 256]]\n",
            "\n",
            "📄 Reporte de clasificación:\n",
            "              precision    recall  f1-score   support\n",
            "\n",
            "           0       0.87      0.78      0.82      1033\n",
            "           1       0.53      0.68      0.60       374\n",
            "\n",
            "    accuracy                           0.75      1407\n",
            "   macro avg       0.70      0.73      0.71      1407\n",
            "weighted avg       0.78      0.75      0.76      1407\n",
            "\n"
          ]
        }
      ],
      "source": [
        "# Instanciar GridSearchCV para SVM\n",
        "# -----------------------------\n",
        "svm = SVC(probability=True, random_state=42)\n",
        "\n",
        "param_grid_svm = {\n",
        "    'C': [0.1, 1, 10],\n",
        "    'kernel': ['linear', 'rbf'],\n",
        "    'gamma': ['scale', 'auto']\n",
        "}\n",
        "\n",
        "# Usamos F1 como métrica principal, ya que el dataset era desbalanceado\n",
        "grid_svm = GridSearchCV(svm, param_grid_svm, cv=5, scoring='f1', n_jobs=-1)\n",
        "\n",
        "# Ajustar con datos balanceados\n",
        "grid_svm.fit(X_train_sm, y_train_sm)\n",
        "\n",
        "# -----------------------------\n",
        "# Resultados del GridSearch\n",
        "# -----------------------------\n",
        "print(\"📌 Mejor combinación de hiperparámetros (SVM):\", grid_svm.best_params_)\n",
        "\n",
        "print(\"\\n✅ Puntaje promedio en validación cruzada (CV):\")\n",
        "print(f\"{grid_svm.best_score_:.4f}\")\n",
        "\n",
        "# -----------------------------\n",
        "# Evaluación en conjunto de prueba\n",
        "# -----------------------------\n",
        "y_pred = grid_svm.predict(X_test)\n",
        "\n",
        "print(\"\\n🧪 Precisión en el conjunto de prueba:\")\n",
        "print(f\"{grid_svm.score(X_test, y_test):.4f}\")\n",
        "\n",
        "print(\"\\n📊 Matriz de confusión:\")\n",
        "print(confusion_matrix(y_test, y_pred))\n",
        "\n",
        "print(\"\\n📄 Reporte de clasificación:\")\n",
        "print(classification_report(y_test, y_pred))"
      ]
    },
    {
      "cell_type": "markdown",
      "id": "db2b70fd-e3c9-41db-bce4-ac74b092e166",
      "metadata": {
        "id": "db2b70fd-e3c9-41db-bce4-ac74b092e166"
      },
      "source": [
        "### COMPARAR CURVAS ROC DE LOS MODELOS"
      ]
    },
    {
      "cell_type": "code",
      "execution_count": null,
      "id": "a31b3f83-48bd-4660-bebe-1aa358a800ab",
      "metadata": {
        "id": "a31b3f83-48bd-4660-bebe-1aa358a800ab",
        "outputId": "a3038e76-6746-4127-d8fd-51a83171dd7c"
      },
      "outputs": [
        {
          "data": {
            "image/png": "[encoded data removed]",
            "text/plain": [
              "<Figure size 1000x600 with 1 Axes>"
            ]
          },
          "metadata": {},
          "output_type": "display_data"
        }
      ],
      "source": [
        "# -----------------------------\n",
        "# Obtener probabilidades de clase positiva (Churn = 1)\n",
        "# -----------------------------\n",
        "y_proba_log = log_grid.predict_proba(X_test)[:, 1]\n",
        "y_proba_knn = knn_grid.predict_proba(X_test)[:, 1]\n",
        "y_proba_tree = tree_grid.predict_proba(X_test)[:, 1]\n",
        "y_proba_svm = grid_svm.predict_proba(X_test)[:, 1]\n",
        "\n",
        "# -----------------------------\n",
        "# Calcular curvas ROC\n",
        "# -----------------------------\n",
        "fpr_log, tpr_log, _ = roc_curve(y_test, y_proba_log)\n",
        "fpr_knn, tpr_knn, _ = roc_curve(y_test, y_proba_knn)\n",
        "fpr_tree, tpr_tree, _ = roc_curve(y_test, y_proba_tree)\n",
        "fpr_svm, tpr_svm, _ = roc_curve(y_test, y_proba_svm)\n",
        "\n",
        "# -----------------------------\n",
        "# Calcular AUC\n",
        "# -----------------------------\n",
        "auc_log = roc_auc_score(y_test, y_proba_log)\n",
        "auc_knn = roc_auc_score(y_test, y_proba_knn)\n",
        "auc_tree = roc_auc_score(y_test, y_proba_tree)\n",
        "auc_svm = roc_auc_score(y_test, y_proba_svm)\n",
        "\n",
        "# -----------------------------\n",
        "# Graficar curvas ROC\n",
        "# -----------------------------\n",
        "plt.figure(figsize=(10,6))\n",
        "\n",
        "plt.plot(fpr_log, tpr_log, label=f\"Logistic Regression (AUC = {auc_log:.3f})\")\n",
        "plt.plot(fpr_knn, tpr_knn, label=f\"KNN (AUC = {auc_knn:.3f})\")\n",
        "plt.plot(fpr_tree, tpr_tree, label=f\"Decision Tree (AUC = {auc_tree:.3f})\")\n",
        "plt.plot(fpr_svm, tpr_svm, label=f\"SVM (AUC = {auc_svm:.3f})\")\n",
        "\n",
        "# Línea base (azar)\n",
        "plt.plot([0, 1], [0, 1], 'k--', label=\"Random (AUC = 0.5)\")\n",
        "\n",
        "# Etiquetas y título\n",
        "plt.xlabel(\"Tasa de Falsos Positivos (FPR)\")\n",
        "plt.ylabel(\"Tasa de Verdaderos Positivos (TPR)\")\n",
        "plt.title(\"Curvas ROC comparativas - Modelos con SMOTE\")\n",
        "plt.legend(loc=\"lower right\")\n",
        "plt.grid(True)\n",
        "plt.tight_layout()\n",
        "plt.show()"
      ]
    },
    {
      "cell_type": "markdown",
      "id": "15b8993c-3400-4736-a3a2-f4a16cd38431",
      "metadata": {
        "id": "15b8993c-3400-4736-a3a2-f4a16cd38431"
      },
      "source": [
        "### COMPARAR MÉTRICAS DE LOS MODELOS"
      ]
    },
    {
      "cell_type": "code",
      "execution_count": null,
      "id": "b465bb32-d9bd-4503-8211-13cc980ab9e2",
      "metadata": {
        "id": "b465bb32-d9bd-4503-8211-13cc980ab9e2",
        "outputId": "64237f72-221d-4997-cad2-b7db0ee7c238"
      },
      "outputs": [
        {
          "data": {
            "text/html": [
              "<h3>📊 Comparación de Modelos</h3>"
            ],
            "text/plain": [
              "<IPython.core.display.HTML object>"
            ]
          },
          "metadata": {},
          "output_type": "display_data"
        },
        {
          "data": {
            "text/html": [
              "<style type=\"text/css\">\n",
              "#T_af439 th {\n",
              "  font-weight: bold;\n",
              "}\n",
              "</style>\n",
              "<table id=\"T_af439\">\n",
              "  <thead>\n",
              "    <tr>\n",
              "      <th class=\"blank level0\" >&nbsp;</th>\n",
              "      <th id=\"T_af439_level0_col0\" class=\"col_heading level0 col0\" >Modelo</th>\n",
              "      <th id=\"T_af439_level0_col1\" class=\"col_heading level0 col1\" >Accuracy</th>\n",
              "      <th id=\"T_af439_level0_col2\" class=\"col_heading level0 col2\" >Precision</th>\n",
              "      <th id=\"T_af439_level0_col3\" class=\"col_heading level0 col3\" >Recall</th>\n",
              "      <th id=\"T_af439_level0_col4\" class=\"col_heading level0 col4\" >F1 Score</th>\n",
              "      <th id=\"T_af439_level0_col5\" class=\"col_heading level0 col5\" >AUC-ROC</th>\n",
              "    </tr>\n",
              "  </thead>\n",
              "  <tbody>\n",
              "    <tr>\n",
              "      <th id=\"T_af439_level0_row0\" class=\"row_heading level0 row0\" >0</th>\n",
              "      <td id=\"T_af439_row0_col0\" class=\"data row0 col0\" >Regresión Logística</td>\n",
              "      <td id=\"T_af439_row0_col1\" class=\"data row0 col1\" >0.7676</td>\n",
              "      <td id=\"T_af439_row0_col2\" class=\"data row0 col2\" >0.5456</td>\n",
              "      <td id=\"T_af439_row0_col3\" class=\"data row0 col3\" >0.7513</td>\n",
              "      <td id=\"T_af439_row0_col4\" class=\"data row0 col4\" >0.6322</td>\n",
              "      <td id=\"T_af439_row0_col5\" class=\"data row0 col5\" >0.8323</td>\n",
              "    </tr>\n",
              "    <tr>\n",
              "      <th id=\"T_af439_level0_row1\" class=\"row_heading level0 row1\" >1</th>\n",
              "      <td id=\"T_af439_row1_col0\" class=\"data row1 col0\" >KNN</td>\n",
              "      <td id=\"T_af439_row1_col1\" class=\"data row1 col1\" >0.7143</td>\n",
              "      <td id=\"T_af439_row1_col2\" class=\"data row1 col2\" >0.4723</td>\n",
              "      <td id=\"T_af439_row1_col3\" class=\"data row1 col3\" >0.6390</td>\n",
              "      <td id=\"T_af439_row1_col4\" class=\"data row1 col4\" >0.5432</td>\n",
              "      <td id=\"T_af439_row1_col5\" class=\"data row1 col5\" >0.7538</td>\n",
              "    </tr>\n",
              "    <tr>\n",
              "      <th id=\"T_af439_level0_row2\" class=\"row_heading level0 row2\" >2</th>\n",
              "      <td id=\"T_af439_row2_col0\" class=\"data row2 col0\" >Árbol de Decisión</td>\n",
              "      <td id=\"T_af439_row2_col1\" class=\"data row2 col1\" >0.7249</td>\n",
              "      <td id=\"T_af439_row2_col2\" class=\"data row2 col2\" >0.4882</td>\n",
              "      <td id=\"T_af439_row2_col3\" class=\"data row2 col3\" >0.7219</td>\n",
              "      <td id=\"T_af439_row2_col4\" class=\"data row2 col4\" >0.5825</td>\n",
              "      <td id=\"T_af439_row2_col5\" class=\"data row2 col5\" >0.7773</td>\n",
              "    </tr>\n",
              "    <tr>\n",
              "      <th id=\"T_af439_level0_row3\" class=\"row_heading level0 row3\" >3</th>\n",
              "      <td id=\"T_af439_row3_col0\" class=\"data row3 col0\" >SVM</td>\n",
              "      <td id=\"T_af439_row3_col1\" class=\"data row3 col1\" >0.7534</td>\n",
              "      <td id=\"T_af439_row3_col2\" class=\"data row3 col2\" >0.5278</td>\n",
              "      <td id=\"T_af439_row3_col3\" class=\"data row3 col3\" >0.6845</td>\n",
              "      <td id=\"T_af439_row3_col4\" class=\"data row3 col4\" >0.5960</td>\n",
              "      <td id=\"T_af439_row3_col5\" class=\"data row3 col5\" >0.8024</td>\n",
              "    </tr>\n",
              "  </tbody>\n",
              "</table>\n"
            ],
            "text/plain": [
              "<pandas.io.formats.style.Styler at 0x1c746cc28e0>"
            ]
          },
          "metadata": {},
          "output_type": "display_data"
        },
        {
          "data": {
            "image/png": "[encoded data removed]",
            "text/plain": [
              "<Figure size 1000x600 with 1 Axes>"
            ]
          },
          "metadata": {},
          "output_type": "display_data"
        }
      ],
      "source": [
        "# -----------------------------\n",
        "# Predicciones (clase) de cada modelo\n",
        "# -----------------------------\n",
        "y_pred_log = log_grid.predict(X_test)\n",
        "y_pred_knn = knn_grid.predict(X_test)\n",
        "y_pred_tree = tree_grid.predict(X_test)\n",
        "y_pred_svm = grid_svm.predict(X_test)\n",
        "\n",
        "# -----------------------------\n",
        "# Probabilidades (para AUC-ROC)\n",
        "# -----------------------------\n",
        "y_proba_log = log_grid.predict_proba(X_test)[:, 1]\n",
        "y_proba_knn = knn_grid.predict_proba(X_test)[:, 1]\n",
        "y_proba_tree = tree_grid.predict_proba(X_test)[:, 1]\n",
        "y_proba_svm = grid_svm.predict_proba(X_test)[:, 1]\n",
        "\n",
        "# -----------------------------\n",
        "# Diccionario de métricas\n",
        "# -----------------------------\n",
        "metricas = {\n",
        "    'Modelo': ['Regresión Logística', 'KNN', 'Árbol de Decisión', 'SVM'],\n",
        "    'Accuracy': [\n",
        "        accuracy_score(y_test, y_pred_log),\n",
        "        accuracy_score(y_test, y_pred_knn),\n",
        "        accuracy_score(y_test, y_pred_tree),\n",
        "        accuracy_score(y_test, y_pred_svm)\n",
        "    ],\n",
        "    'Precision': [\n",
        "        precision_score(y_test, y_pred_log),\n",
        "        precision_score(y_test, y_pred_knn),\n",
        "        precision_score(y_test, y_pred_tree),\n",
        "        precision_score(y_test, y_pred_svm)\n",
        "    ],\n",
        "    'Recall': [\n",
        "        recall_score(y_test, y_pred_log),\n",
        "        recall_score(y_test, y_pred_knn),\n",
        "        recall_score(y_test, y_pred_tree),\n",
        "        recall_score(y_test, y_pred_svm)\n",
        "    ],\n",
        "    'F1 Score': [\n",
        "        f1_score(y_test, y_pred_log),\n",
        "        f1_score(y_test, y_pred_knn),\n",
        "        f1_score(y_test, y_pred_tree),\n",
        "        f1_score(y_test, y_pred_svm)\n",
        "    ],\n",
        "    'AUC-ROC': [\n",
        "        roc_auc_score(y_test, y_proba_log),\n",
        "        roc_auc_score(y_test, y_proba_knn),\n",
        "        roc_auc_score(y_test, y_proba_tree),\n",
        "        roc_auc_score(y_test, y_proba_svm)\n",
        "    ]\n",
        "}\n",
        "\n",
        "# -----------------------------\n",
        "# Crear DataFrame y mostrar tabla\n",
        "# -----------------------------\n",
        "df_metricas = pd.DataFrame(metricas)\n",
        "\n",
        "display(HTML(\"<h3>📊 Comparación de Modelos</h3>\"))\n",
        "display(\n",
        "    df_metricas.style\n",
        "    .format({\n",
        "        'Accuracy': '{:.4f}',\n",
        "        'Precision': '{:.4f}',\n",
        "        'Recall': '{:.4f}',\n",
        "        'F1 Score': '{:.4f}',\n",
        "        'AUC-ROC': '{:.4f}'\n",
        "    })\n",
        "    .set_table_styles([\n",
        "        {'selector': 'th', 'props': [('font-weight', 'bold')]}\n",
        "    ])\n",
        ")\n",
        "\n",
        "# -----------------------------\n",
        "# Gráfico comparativo\n",
        "# -----------------------------\n",
        "df_plot = df_metricas.set_index('Modelo').T\n",
        "\n",
        "ax = df_plot.plot(kind='bar', figsize=(10, 6), width=0.75)\n",
        "plt.title('Comparación de métricas entre modelos', fontsize=14)\n",
        "plt.ylabel('Puntaje')\n",
        "plt.xlabel('Métrica')\n",
        "plt.xticks(rotation=0)\n",
        "plt.ylim(0, 1.05)\n",
        "plt.legend(title='Modelo')\n",
        "plt.grid(axis='y', linestyle='--', alpha=0.7)\n",
        "plt.tight_layout()\n",
        "plt.show()"
      ]
    },
    {
      "cell_type": "markdown",
      "id": "e2fe0780-1dd0-442e-850e-fb0fac23a3b3",
      "metadata": {
        "id": "e2fe0780-1dd0-442e-850e-fb0fac23a3b3"
      },
      "source": [
        "## 📊 Análisis de Resultados\n",
        "\n",
        "### **Accuracy (Exactitud)**\n",
        "- **Mayor valor:** Regresión Logística (0.7676), seguida muy de cerca por SVM (0.7534).\n",
        "- **Peor desempeño:** KNN (0.7143), posiblemente debido a su sensibilidad al ruido y la alta dimensionalidad.\n",
        "\n",
        "### **Precision**\n",
        "- Ningún modelo supera el 0.55, lo que indica una cantidad considerable de **falsos positivos**.\n",
        "- **Mejores:** Regresión Logística (0.5456) y SVM (0.5278).\n",
        "- KNN y Árbol de Decisión muestran valores más bajos.\n",
        "\n",
        "### **Recall (Sensibilidad)**\n",
        "- **Mejores:** Regresión Logística (0.7513) y Árbol de Decisión (0.7219).\n",
        "- **Más bajo:** KNN (0.6390).\n",
        "- Esto indica que RL y Árbol detectan más casos positivos correctamente.\n",
        "\n",
        "### **F1-Score** *(balance entre Precision y Recall)*\n",
        "- **Mejor balance:** Regresión Logística (0.6322), seguida por Árbol y SVM (~0.59).\n",
        "- **Más bajo:** KNN (0.5432).\n",
        "\n",
        "### **AUC-ROC** *(capacidad de discriminar entre clases)*\n",
        "- **Líder:** Regresión Logística (0.8323), seguida por SVM (0.8024).\n",
        "- Árbol (0.7773) y KNN (0.7538) tienen menor capacidad discriminativa.\n",
        "- Confirma que RL y SVM son más consistentes al distinguir positivos de negativos.\n",
        "\n",
        "---\n",
        "\n",
        "## 💡 Conclusión\n",
        "- **Regresión Logística** es el modelo más equilibrado y con mejor rendimiento global en todas las métricas.\n",
        "- **SVM** es un segundo lugar sólido, especialmente en **AUC-ROC** y **Accuracy**.\n",
        "- **Árbol de Decisión** destaca en Recall, pero con menor precisión, lo que implica más falsos positivos.\n",
        "- **KNN** tiene el peor desempeño general, lo que sugiere dificultades para capturar la estructura de los datos, posiblemente por **alta dimensionalidad o ruido**."
      ]
    },
    {
      "cell_type": "markdown",
      "id": "a143541f-d831-498e-883e-f642236f65e5",
      "metadata": {
        "id": "a143541f-d831-498e-883e-f642236f65e5"
      },
      "source": [
        "### MEJOR MODELO: REGRESIÓN LOGÍSTICA\n",
        "\n",
        "Utilizaremos este modelo para identificar a los 10 clientes con mayor probabilidad de renunciar."
      ]
    },
    {
      "cell_type": "code",
      "execution_count": null,
      "id": "2accd889-3a07-46cd-8178-71390fb5dca3",
      "metadata": {
        "id": "2accd889-3a07-46cd-8178-71390fb5dca3"
      },
      "outputs": [],
      "source": [
        "# Definir el modelo base\n",
        "lr = LogisticRegression(random_state=42, max_iter=1000)\n",
        "\n",
        "# Definir el grid de hiperparámetros\n",
        "param_grid = {\n",
        "    'C': [0.01, 0.1, 1, 10],\n",
        "    'solver': ['liblinear', 'lbfgs']\n",
        "}\n",
        "\n",
        "# Búsqueda de hiperparámetros\n",
        "grid_lr = GridSearchCV(lr, param_grid, cv=5, scoring='accuracy')\n",
        "grid_lr.fit(X_train, y_train)\n",
        "\n",
        "# Guardar el mejor modelo\n",
        "best_lr = grid_lr.best_estimator_"
      ]
    },
    {
      "cell_type": "markdown",
      "id": "ab984ca6-bd21-4f28-9747-9c46fe0ec5ff",
      "metadata": {
        "id": "ab984ca6-bd21-4f28-9747-9c46fe0ec5ff"
      },
      "source": [
        "> ### TOP 10 CLIENTES CON MAYOR PROBABILIDAD DE RENUNCIAR"
      ]
    },
    {
      "cell_type": "code",
      "execution_count": null,
      "id": "f74ff269-207b-4819-b392-2ca615c8c5e1",
      "metadata": {
        "id": "f74ff269-207b-4819-b392-2ca615c8c5e1",
        "outputId": "28f6cdd3-29bd-405b-dada-1ccf33a59fbc"
      },
      "outputs": [
        {
          "data": {
            "text/html": [
              "<h4><b>Top 10 clientes con mayor probabilidad de renunciar (Modelo: Regresión Logística):</b></h4>"
            ],
            "text/plain": [
              "<IPython.core.display.HTML object>"
            ]
          },
          "metadata": {},
          "output_type": "display_data"
        },
        {
          "data": {
            "text/html": [
              "<style type=\"text/css\">\n",
              "#T_c008c_row0_col24 {\n",
              "  background-color: #67000d;\n",
              "  color: #f1f1f1;\n",
              "}\n",
              "#T_c008c_row1_col24 {\n",
              "  background-color: #79040f;\n",
              "  color: #f1f1f1;\n",
              "}\n",
              "#T_c008c_row2_col24 {\n",
              "  background-color: #c1161b;\n",
              "  color: #f1f1f1;\n",
              "}\n",
              "#T_c008c_row3_col24 {\n",
              "  background-color: #c4161c;\n",
              "  color: #f1f1f1;\n",
              "}\n",
              "#T_c008c_row4_col24 {\n",
              "  background-color: #fca98c;\n",
              "  color: #000000;\n",
              "}\n",
              "#T_c008c_row5_col24 {\n",
              "  background-color: #fdd0bc;\n",
              "  color: #000000;\n",
              "}\n",
              "#T_c008c_row6_col24 {\n",
              "  background-color: #fdd4c2;\n",
              "  color: #000000;\n",
              "}\n",
              "#T_c008c_row7_col24 {\n",
              "  background-color: #fee1d3;\n",
              "  color: #000000;\n",
              "}\n",
              "#T_c008c_row8_col24 {\n",
              "  background-color: #fee3d6;\n",
              "  color: #000000;\n",
              "}\n",
              "#T_c008c_row9_col24 {\n",
              "  background-color: #fff5f0;\n",
              "  color: #000000;\n",
              "}\n",
              "</style>\n",
              "<table id=\"T_c008c\">\n",
              "  <thead>\n",
              "    <tr>\n",
              "      <th class=\"blank level0\" >&nbsp;</th>\n",
              "      <th id=\"T_c008c_level0_col0\" class=\"col_heading level0 col0\" >gender</th>\n",
              "      <th id=\"T_c008c_level0_col1\" class=\"col_heading level0 col1\" >SeniorCitizen</th>\n",
              "      <th id=\"T_c008c_level0_col2\" class=\"col_heading level0 col2\" >Partner</th>\n",
              "      <th id=\"T_c008c_level0_col3\" class=\"col_heading level0 col3\" >Dependents</th>\n",
              "      <th id=\"T_c008c_level0_col4\" class=\"col_heading level0 col4\" >tenure</th>\n",
              "      <th id=\"T_c008c_level0_col5\" class=\"col_heading level0 col5\" >PhoneService</th>\n",
              "      <th id=\"T_c008c_level0_col6\" class=\"col_heading level0 col6\" >MultipleLines</th>\n",
              "      <th id=\"T_c008c_level0_col7\" class=\"col_heading level0 col7\" >OnlineSecurity</th>\n",
              "      <th id=\"T_c008c_level0_col8\" class=\"col_heading level0 col8\" >OnlineBackup</th>\n",
              "      <th id=\"T_c008c_level0_col9\" class=\"col_heading level0 col9\" >DeviceProtection</th>\n",
              "      <th id=\"T_c008c_level0_col10\" class=\"col_heading level0 col10\" >TechSupport</th>\n",
              "      <th id=\"T_c008c_level0_col11\" class=\"col_heading level0 col11\" >StreamingTV</th>\n",
              "      <th id=\"T_c008c_level0_col12\" class=\"col_heading level0 col12\" >StreamingMovies</th>\n",
              "      <th id=\"T_c008c_level0_col13\" class=\"col_heading level0 col13\" >PaperlessBilling</th>\n",
              "      <th id=\"T_c008c_level0_col14\" class=\"col_heading level0 col14\" >MonthlyCharges</th>\n",
              "      <th id=\"T_c008c_level0_col15\" class=\"col_heading level0 col15\" >TotalCharges</th>\n",
              "      <th id=\"T_c008c_level0_col16\" class=\"col_heading level0 col16\" >InternetService_Fiber optic</th>\n",
              "      <th id=\"T_c008c_level0_col17\" class=\"col_heading level0 col17\" >InternetService_No</th>\n",
              "      <th id=\"T_c008c_level0_col18\" class=\"col_heading level0 col18\" >Contract_One year</th>\n",
              "      <th id=\"T_c008c_level0_col19\" class=\"col_heading level0 col19\" >Contract_Two year</th>\n",
              "      <th id=\"T_c008c_level0_col20\" class=\"col_heading level0 col20\" >PaymentMethod_Credit card (automatic)</th>\n",
              "      <th id=\"T_c008c_level0_col21\" class=\"col_heading level0 col21\" >PaymentMethod_Electronic check</th>\n",
              "      <th id=\"T_c008c_level0_col22\" class=\"col_heading level0 col22\" >PaymentMethod_Mailed check</th>\n",
              "      <th id=\"T_c008c_level0_col23\" class=\"col_heading level0 col23\" >Churn_real</th>\n",
              "      <th id=\"T_c008c_level0_col24\" class=\"col_heading level0 col24\" >Probabilidad_Churn</th>\n",
              "    </tr>\n",
              "  </thead>\n",
              "  <tbody>\n",
              "    <tr>\n",
              "      <th id=\"T_c008c_level0_row0\" class=\"row_heading level0 row0\" >2798</th>\n",
              "      <td id=\"T_c008c_row0_col0\" class=\"data row0 col0\" >0</td>\n",
              "      <td id=\"T_c008c_row0_col1\" class=\"data row0 col1\" >1</td>\n",
              "      <td id=\"T_c008c_row0_col2\" class=\"data row0 col2\" >0</td>\n",
              "      <td id=\"T_c008c_row0_col3\" class=\"data row0 col3\" >0</td>\n",
              "      <td id=\"T_c008c_row0_col4\" class=\"data row0 col4\" >-1.280248</td>\n",
              "      <td id=\"T_c008c_row0_col5\" class=\"data row0 col5\" >1</td>\n",
              "      <td id=\"T_c008c_row0_col6\" class=\"data row0 col6\" >0</td>\n",
              "      <td id=\"T_c008c_row0_col7\" class=\"data row0 col7\" >0</td>\n",
              "      <td id=\"T_c008c_row0_col8\" class=\"data row0 col8\" >0</td>\n",
              "      <td id=\"T_c008c_row0_col9\" class=\"data row0 col9\" >0</td>\n",
              "      <td id=\"T_c008c_row0_col10\" class=\"data row0 col10\" >0</td>\n",
              "      <td id=\"T_c008c_row0_col11\" class=\"data row0 col11\" >1</td>\n",
              "      <td id=\"T_c008c_row0_col12\" class=\"data row0 col12\" >1</td>\n",
              "      <td id=\"T_c008c_row0_col13\" class=\"data row0 col13\" >1</td>\n",
              "      <td id=\"T_c008c_row0_col14\" class=\"data row0 col14\" >0.880931</td>\n",
              "      <td id=\"T_c008c_row0_col15\" class=\"data row0 col15\" >-0.967083</td>\n",
              "      <td id=\"T_c008c_row0_col16\" class=\"data row0 col16\" >1</td>\n",
              "      <td id=\"T_c008c_row0_col17\" class=\"data row0 col17\" >0</td>\n",
              "      <td id=\"T_c008c_row0_col18\" class=\"data row0 col18\" >0</td>\n",
              "      <td id=\"T_c008c_row0_col19\" class=\"data row0 col19\" >0</td>\n",
              "      <td id=\"T_c008c_row0_col20\" class=\"data row0 col20\" >0</td>\n",
              "      <td id=\"T_c008c_row0_col21\" class=\"data row0 col21\" >1</td>\n",
              "      <td id=\"T_c008c_row0_col22\" class=\"data row0 col22\" >0</td>\n",
              "      <td id=\"T_c008c_row0_col23\" class=\"data row0 col23\" >1</td>\n",
              "      <td id=\"T_c008c_row0_col24\" class=\"data row0 col24\" >0.825761</td>\n",
              "    </tr>\n",
              "    <tr>\n",
              "      <th id=\"T_c008c_level0_row1\" class=\"row_heading level0 row1\" >3945</th>\n",
              "      <td id=\"T_c008c_row1_col0\" class=\"data row1 col0\" >1</td>\n",
              "      <td id=\"T_c008c_row1_col1\" class=\"data row1 col1\" >1</td>\n",
              "      <td id=\"T_c008c_row1_col2\" class=\"data row1 col2\" >1</td>\n",
              "      <td id=\"T_c008c_row1_col3\" class=\"data row1 col3\" >0</td>\n",
              "      <td id=\"T_c008c_row1_col4\" class=\"data row1 col4\" >-1.198760</td>\n",
              "      <td id=\"T_c008c_row1_col5\" class=\"data row1 col5\" >1</td>\n",
              "      <td id=\"T_c008c_row1_col6\" class=\"data row1 col6\" >1</td>\n",
              "      <td id=\"T_c008c_row1_col7\" class=\"data row1 col7\" >0</td>\n",
              "      <td id=\"T_c008c_row1_col8\" class=\"data row1 col8\" >0</td>\n",
              "      <td id=\"T_c008c_row1_col9\" class=\"data row1 col9\" >0</td>\n",
              "      <td id=\"T_c008c_row1_col10\" class=\"data row1 col10\" >0</td>\n",
              "      <td id=\"T_c008c_row1_col11\" class=\"data row1 col11\" >1</td>\n",
              "      <td id=\"T_c008c_row1_col12\" class=\"data row1 col12\" >1</td>\n",
              "      <td id=\"T_c008c_row1_col13\" class=\"data row1 col13\" >1</td>\n",
              "      <td id=\"T_c008c_row1_col14\" class=\"data row1 col14\" >0.990625</td>\n",
              "      <td id=\"T_c008c_row1_col15\" class=\"data row1 col15\" >-0.884030</td>\n",
              "      <td id=\"T_c008c_row1_col16\" class=\"data row1 col16\" >1</td>\n",
              "      <td id=\"T_c008c_row1_col17\" class=\"data row1 col17\" >0</td>\n",
              "      <td id=\"T_c008c_row1_col18\" class=\"data row1 col18\" >0</td>\n",
              "      <td id=\"T_c008c_row1_col19\" class=\"data row1 col19\" >0</td>\n",
              "      <td id=\"T_c008c_row1_col20\" class=\"data row1 col20\" >0</td>\n",
              "      <td id=\"T_c008c_row1_col21\" class=\"data row1 col21\" >1</td>\n",
              "      <td id=\"T_c008c_row1_col22\" class=\"data row1 col22\" >0</td>\n",
              "      <td id=\"T_c008c_row1_col23\" class=\"data row1 col23\" >1</td>\n",
              "      <td id=\"T_c008c_row1_col24\" class=\"data row1 col24\" >0.824699</td>\n",
              "    </tr>\n",
              "    <tr>\n",
              "      <th id=\"T_c008c_level0_row2\" class=\"row_heading level0 row2\" >5778</th>\n",
              "      <td id=\"T_c008c_row2_col0\" class=\"data row2 col0\" >0</td>\n",
              "      <td id=\"T_c008c_row2_col1\" class=\"data row2 col1\" >0</td>\n",
              "      <td id=\"T_c008c_row2_col2\" class=\"data row2 col2\" >0</td>\n",
              "      <td id=\"T_c008c_row2_col3\" class=\"data row2 col3\" >0</td>\n",
              "      <td id=\"T_c008c_row2_col4\" class=\"data row2 col4\" >-1.280248</td>\n",
              "      <td id=\"T_c008c_row2_col5\" class=\"data row2 col5\" >1</td>\n",
              "      <td id=\"T_c008c_row2_col6\" class=\"data row2 col6\" >1</td>\n",
              "      <td id=\"T_c008c_row2_col7\" class=\"data row2 col7\" >0</td>\n",
              "      <td id=\"T_c008c_row2_col8\" class=\"data row2 col8\" >0</td>\n",
              "      <td id=\"T_c008c_row2_col9\" class=\"data row2 col9\" >0</td>\n",
              "      <td id=\"T_c008c_row2_col10\" class=\"data row2 col10\" >0</td>\n",
              "      <td id=\"T_c008c_row2_col11\" class=\"data row2 col11\" >1</td>\n",
              "      <td id=\"T_c008c_row2_col12\" class=\"data row2 col12\" >1</td>\n",
              "      <td id=\"T_c008c_row2_col13\" class=\"data row2 col13\" >1</td>\n",
              "      <td id=\"T_c008c_row2_col14\" class=\"data row2 col14\" >0.965694</td>\n",
              "      <td id=\"T_c008c_row2_col15\" class=\"data row2 col15\" >-0.965958</td>\n",
              "      <td id=\"T_c008c_row2_col16\" class=\"data row2 col16\" >1</td>\n",
              "      <td id=\"T_c008c_row2_col17\" class=\"data row2 col17\" >0</td>\n",
              "      <td id=\"T_c008c_row2_col18\" class=\"data row2 col18\" >0</td>\n",
              "      <td id=\"T_c008c_row2_col19\" class=\"data row2 col19\" >0</td>\n",
              "      <td id=\"T_c008c_row2_col20\" class=\"data row2 col20\" >0</td>\n",
              "      <td id=\"T_c008c_row2_col21\" class=\"data row2 col21\" >1</td>\n",
              "      <td id=\"T_c008c_row2_col22\" class=\"data row2 col22\" >0</td>\n",
              "      <td id=\"T_c008c_row2_col23\" class=\"data row2 col23\" >1</td>\n",
              "      <td id=\"T_c008c_row2_col24\" class=\"data row2 col24\" >0.819719</td>\n",
              "    </tr>\n",
              "    <tr>\n",
              "      <th id=\"T_c008c_level0_row3\" class=\"row_heading level0 row3\" >3456</th>\n",
              "      <td id=\"T_c008c_row3_col0\" class=\"data row3 col0\" >0</td>\n",
              "      <td id=\"T_c008c_row3_col1\" class=\"data row3 col1\" >0</td>\n",
              "      <td id=\"T_c008c_row3_col2\" class=\"data row3 col2\" >0</td>\n",
              "      <td id=\"T_c008c_row3_col3\" class=\"data row3 col3\" >0</td>\n",
              "      <td id=\"T_c008c_row3_col4\" class=\"data row3 col4\" >-1.280248</td>\n",
              "      <td id=\"T_c008c_row3_col5\" class=\"data row3 col5\" >1</td>\n",
              "      <td id=\"T_c008c_row3_col6\" class=\"data row3 col6\" >1</td>\n",
              "      <td id=\"T_c008c_row3_col7\" class=\"data row3 col7\" >0</td>\n",
              "      <td id=\"T_c008c_row3_col8\" class=\"data row3 col8\" >0</td>\n",
              "      <td id=\"T_c008c_row3_col9\" class=\"data row3 col9\" >0</td>\n",
              "      <td id=\"T_c008c_row3_col10\" class=\"data row3 col10\" >0</td>\n",
              "      <td id=\"T_c008c_row3_col11\" class=\"data row3 col11\" >1</td>\n",
              "      <td id=\"T_c008c_row3_col12\" class=\"data row3 col12\" >1</td>\n",
              "      <td id=\"T_c008c_row3_col13\" class=\"data row3 col13\" >1</td>\n",
              "      <td id=\"T_c008c_row3_col14\" class=\"data row3 col14\" >0.990625</td>\n",
              "      <td id=\"T_c008c_row3_col15\" class=\"data row3 col15\" >-0.965627</td>\n",
              "      <td id=\"T_c008c_row3_col16\" class=\"data row3 col16\" >1</td>\n",
              "      <td id=\"T_c008c_row3_col17\" class=\"data row3 col17\" >0</td>\n",
              "      <td id=\"T_c008c_row3_col18\" class=\"data row3 col18\" >0</td>\n",
              "      <td id=\"T_c008c_row3_col19\" class=\"data row3 col19\" >0</td>\n",
              "      <td id=\"T_c008c_row3_col20\" class=\"data row3 col20\" >0</td>\n",
              "      <td id=\"T_c008c_row3_col21\" class=\"data row3 col21\" >1</td>\n",
              "      <td id=\"T_c008c_row3_col22\" class=\"data row3 col22\" >0</td>\n",
              "      <td id=\"T_c008c_row3_col23\" class=\"data row3 col23\" >1</td>\n",
              "      <td id=\"T_c008c_row3_col24\" class=\"data row3 col24\" >0.819467</td>\n",
              "    </tr>\n",
              "    <tr>\n",
              "      <th id=\"T_c008c_level0_row4\" class=\"row_heading level0 row4\" >3845</th>\n",
              "      <td id=\"T_c008c_row4_col0\" class=\"data row4 col0\" >1</td>\n",
              "      <td id=\"T_c008c_row4_col1\" class=\"data row4 col1\" >0</td>\n",
              "      <td id=\"T_c008c_row4_col2\" class=\"data row4 col2\" >0</td>\n",
              "      <td id=\"T_c008c_row4_col3\" class=\"data row4 col3\" >0</td>\n",
              "      <td id=\"T_c008c_row4_col4\" class=\"data row4 col4\" >-1.280248</td>\n",
              "      <td id=\"T_c008c_row4_col5\" class=\"data row4 col5\" >1</td>\n",
              "      <td id=\"T_c008c_row4_col6\" class=\"data row4 col6\" >1</td>\n",
              "      <td id=\"T_c008c_row4_col7\" class=\"data row4 col7\" >0</td>\n",
              "      <td id=\"T_c008c_row4_col8\" class=\"data row4 col8\" >0</td>\n",
              "      <td id=\"T_c008c_row4_col9\" class=\"data row4 col9\" >1</td>\n",
              "      <td id=\"T_c008c_row4_col10\" class=\"data row4 col10\" >0</td>\n",
              "      <td id=\"T_c008c_row4_col11\" class=\"data row4 col11\" >1</td>\n",
              "      <td id=\"T_c008c_row4_col12\" class=\"data row4 col12\" >1</td>\n",
              "      <td id=\"T_c008c_row4_col13\" class=\"data row4 col13\" >1</td>\n",
              "      <td id=\"T_c008c_row4_col14\" class=\"data row4 col14\" >1.218322</td>\n",
              "      <td id=\"T_c008c_row4_col15\" class=\"data row4 col15\" >-0.962605</td>\n",
              "      <td id=\"T_c008c_row4_col16\" class=\"data row4 col16\" >1</td>\n",
              "      <td id=\"T_c008c_row4_col17\" class=\"data row4 col17\" >0</td>\n",
              "      <td id=\"T_c008c_row4_col18\" class=\"data row4 col18\" >0</td>\n",
              "      <td id=\"T_c008c_row4_col19\" class=\"data row4 col19\" >0</td>\n",
              "      <td id=\"T_c008c_row4_col20\" class=\"data row4 col20\" >0</td>\n",
              "      <td id=\"T_c008c_row4_col21\" class=\"data row4 col21\" >1</td>\n",
              "      <td id=\"T_c008c_row4_col22\" class=\"data row4 col22\" >0</td>\n",
              "      <td id=\"T_c008c_row4_col23\" class=\"data row4 col23\" >1</td>\n",
              "      <td id=\"T_c008c_row4_col24\" class=\"data row4 col24\" >0.806455</td>\n",
              "    </tr>\n",
              "    <tr>\n",
              "      <th id=\"T_c008c_level0_row5\" class=\"row_heading level0 row5\" >4494</th>\n",
              "      <td id=\"T_c008c_row5_col0\" class=\"data row5 col0\" >1</td>\n",
              "      <td id=\"T_c008c_row5_col1\" class=\"data row5 col1\" >1</td>\n",
              "      <td id=\"T_c008c_row5_col2\" class=\"data row5 col2\" >0</td>\n",
              "      <td id=\"T_c008c_row5_col3\" class=\"data row5 col3\" >0</td>\n",
              "      <td id=\"T_c008c_row5_col4\" class=\"data row5 col4\" >-1.158016</td>\n",
              "      <td id=\"T_c008c_row5_col5\" class=\"data row5 col5\" >1</td>\n",
              "      <td id=\"T_c008c_row5_col6\" class=\"data row5 col6\" >0</td>\n",
              "      <td id=\"T_c008c_row5_col7\" class=\"data row5 col7\" >0</td>\n",
              "      <td id=\"T_c008c_row5_col8\" class=\"data row5 col8\" >0</td>\n",
              "      <td id=\"T_c008c_row5_col9\" class=\"data row5 col9\" >1</td>\n",
              "      <td id=\"T_c008c_row5_col10\" class=\"data row5 col10\" >0</td>\n",
              "      <td id=\"T_c008c_row5_col11\" class=\"data row5 col11\" >1</td>\n",
              "      <td id=\"T_c008c_row5_col12\" class=\"data row5 col12\" >1</td>\n",
              "      <td id=\"T_c008c_row5_col13\" class=\"data row5 col13\" >1</td>\n",
              "      <td id=\"T_c008c_row5_col14\" class=\"data row5 col14\" >0.995611</td>\n",
              "      <td id=\"T_c008c_row5_col15\" class=\"data row5 col15\" >-0.821006</td>\n",
              "      <td id=\"T_c008c_row5_col16\" class=\"data row5 col16\" >1</td>\n",
              "      <td id=\"T_c008c_row5_col17\" class=\"data row5 col17\" >0</td>\n",
              "      <td id=\"T_c008c_row5_col18\" class=\"data row5 col18\" >0</td>\n",
              "      <td id=\"T_c008c_row5_col19\" class=\"data row5 col19\" >0</td>\n",
              "      <td id=\"T_c008c_row5_col20\" class=\"data row5 col20\" >0</td>\n",
              "      <td id=\"T_c008c_row5_col21\" class=\"data row5 col21\" >1</td>\n",
              "      <td id=\"T_c008c_row5_col22\" class=\"data row5 col22\" >0</td>\n",
              "      <td id=\"T_c008c_row5_col23\" class=\"data row5 col23\" >0</td>\n",
              "      <td id=\"T_c008c_row5_col24\" class=\"data row5 col24\" >0.803029</td>\n",
              "    </tr>\n",
              "    <tr>\n",
              "      <th id=\"T_c008c_level0_row6\" class=\"row_heading level0 row6\" >882</th>\n",
              "      <td id=\"T_c008c_row6_col0\" class=\"data row6 col0\" >0</td>\n",
              "      <td id=\"T_c008c_row6_col1\" class=\"data row6 col1\" >1</td>\n",
              "      <td id=\"T_c008c_row6_col2\" class=\"data row6 col2\" >0</td>\n",
              "      <td id=\"T_c008c_row6_col3\" class=\"data row6 col3\" >0</td>\n",
              "      <td id=\"T_c008c_row6_col4\" class=\"data row6 col4\" >-1.158016</td>\n",
              "      <td id=\"T_c008c_row6_col5\" class=\"data row6 col5\" >1</td>\n",
              "      <td id=\"T_c008c_row6_col6\" class=\"data row6 col6\" >1</td>\n",
              "      <td id=\"T_c008c_row6_col7\" class=\"data row6 col7\" >0</td>\n",
              "      <td id=\"T_c008c_row6_col8\" class=\"data row6 col8\" >0</td>\n",
              "      <td id=\"T_c008c_row6_col9\" class=\"data row6 col9\" >1</td>\n",
              "      <td id=\"T_c008c_row6_col10\" class=\"data row6 col10\" >0</td>\n",
              "      <td id=\"T_c008c_row6_col11\" class=\"data row6 col11\" >0</td>\n",
              "      <td id=\"T_c008c_row6_col12\" class=\"data row6 col12\" >1</td>\n",
              "      <td id=\"T_c008c_row6_col13\" class=\"data row6 col13\" >1</td>\n",
              "      <td id=\"T_c008c_row6_col14\" class=\"data row6 col14\" >0.799492</td>\n",
              "      <td id=\"T_c008c_row6_col15\" class=\"data row6 col15\" >-0.843043</td>\n",
              "      <td id=\"T_c008c_row6_col16\" class=\"data row6 col16\" >1</td>\n",
              "      <td id=\"T_c008c_row6_col17\" class=\"data row6 col17\" >0</td>\n",
              "      <td id=\"T_c008c_row6_col18\" class=\"data row6 col18\" >0</td>\n",
              "      <td id=\"T_c008c_row6_col19\" class=\"data row6 col19\" >0</td>\n",
              "      <td id=\"T_c008c_row6_col20\" class=\"data row6 col20\" >0</td>\n",
              "      <td id=\"T_c008c_row6_col21\" class=\"data row6 col21\" >1</td>\n",
              "      <td id=\"T_c008c_row6_col22\" class=\"data row6 col22\" >0</td>\n",
              "      <td id=\"T_c008c_row6_col23\" class=\"data row6 col23\" >1</td>\n",
              "      <td id=\"T_c008c_row6_col24\" class=\"data row6 col24\" >0.802641</td>\n",
              "    </tr>\n",
              "    <tr>\n",
              "      <th id=\"T_c008c_level0_row7\" class=\"row_heading level0 row7\" >5271</th>\n",
              "      <td id=\"T_c008c_row7_col0\" class=\"data row7 col0\" >1</td>\n",
              "      <td id=\"T_c008c_row7_col1\" class=\"data row7 col1\" >1</td>\n",
              "      <td id=\"T_c008c_row7_col2\" class=\"data row7 col2\" >0</td>\n",
              "      <td id=\"T_c008c_row7_col3\" class=\"data row7 col3\" >0</td>\n",
              "      <td id=\"T_c008c_row7_col4\" class=\"data row7 col4\" >-0.832064</td>\n",
              "      <td id=\"T_c008c_row7_col5\" class=\"data row7 col5\" >1</td>\n",
              "      <td id=\"T_c008c_row7_col6\" class=\"data row7 col6\" >1</td>\n",
              "      <td id=\"T_c008c_row7_col7\" class=\"data row7 col7\" >0</td>\n",
              "      <td id=\"T_c008c_row7_col8\" class=\"data row7 col8\" >0</td>\n",
              "      <td id=\"T_c008c_row7_col9\" class=\"data row7 col9\" >1</td>\n",
              "      <td id=\"T_c008c_row7_col10\" class=\"data row7 col10\" >0</td>\n",
              "      <td id=\"T_c008c_row7_col11\" class=\"data row7 col11\" >1</td>\n",
              "      <td id=\"T_c008c_row7_col12\" class=\"data row7 col12\" >1</td>\n",
              "      <td id=\"T_c008c_row7_col13\" class=\"data row7 col13\" >1</td>\n",
              "      <td id=\"T_c008c_row7_col14\" class=\"data row7 col14\" >1.151841</td>\n",
              "      <td id=\"T_c008c_row7_col15\" class=\"data row7 col15\" >-0.477872</td>\n",
              "      <td id=\"T_c008c_row7_col16\" class=\"data row7 col16\" >1</td>\n",
              "      <td id=\"T_c008c_row7_col17\" class=\"data row7 col17\" >0</td>\n",
              "      <td id=\"T_c008c_row7_col18\" class=\"data row7 col18\" >0</td>\n",
              "      <td id=\"T_c008c_row7_col19\" class=\"data row7 col19\" >0</td>\n",
              "      <td id=\"T_c008c_row7_col20\" class=\"data row7 col20\" >0</td>\n",
              "      <td id=\"T_c008c_row7_col21\" class=\"data row7 col21\" >1</td>\n",
              "      <td id=\"T_c008c_row7_col22\" class=\"data row7 col22\" >0</td>\n",
              "      <td id=\"T_c008c_row7_col23\" class=\"data row7 col23\" >1</td>\n",
              "      <td id=\"T_c008c_row7_col24\" class=\"data row7 col24\" >0.801375</td>\n",
              "    </tr>\n",
              "    <tr>\n",
              "      <th id=\"T_c008c_level0_row8\" class=\"row_heading level0 row8\" >4941</th>\n",
              "      <td id=\"T_c008c_row8_col0\" class=\"data row8 col0\" >0</td>\n",
              "      <td id=\"T_c008c_row8_col1\" class=\"data row8 col1\" >1</td>\n",
              "      <td id=\"T_c008c_row8_col2\" class=\"data row8 col2\" >0</td>\n",
              "      <td id=\"T_c008c_row8_col3\" class=\"data row8 col3\" >0</td>\n",
              "      <td id=\"T_c008c_row8_col4\" class=\"data row8 col4\" >-0.954296</td>\n",
              "      <td id=\"T_c008c_row8_col5\" class=\"data row8 col5\" >1</td>\n",
              "      <td id=\"T_c008c_row8_col6\" class=\"data row8 col6\" >1</td>\n",
              "      <td id=\"T_c008c_row8_col7\" class=\"data row8 col7\" >0</td>\n",
              "      <td id=\"T_c008c_row8_col8\" class=\"data row8 col8\" >0</td>\n",
              "      <td id=\"T_c008c_row8_col9\" class=\"data row8 col9\" >1</td>\n",
              "      <td id=\"T_c008c_row8_col10\" class=\"data row8 col10\" >0</td>\n",
              "      <td id=\"T_c008c_row8_col11\" class=\"data row8 col11\" >1</td>\n",
              "      <td id=\"T_c008c_row8_col12\" class=\"data row8 col12\" >0</td>\n",
              "      <td id=\"T_c008c_row8_col13\" class=\"data row8 col13\" >1</td>\n",
              "      <td id=\"T_c008c_row8_col14\" class=\"data row8 col14\" >0.841043</td>\n",
              "      <td id=\"T_c008c_row8_col15\" class=\"data row8 col15\" >-0.647002</td>\n",
              "      <td id=\"T_c008c_row8_col16\" class=\"data row8 col16\" >1</td>\n",
              "      <td id=\"T_c008c_row8_col17\" class=\"data row8 col17\" >0</td>\n",
              "      <td id=\"T_c008c_row8_col18\" class=\"data row8 col18\" >0</td>\n",
              "      <td id=\"T_c008c_row8_col19\" class=\"data row8 col19\" >0</td>\n",
              "      <td id=\"T_c008c_row8_col20\" class=\"data row8 col20\" >0</td>\n",
              "      <td id=\"T_c008c_row8_col21\" class=\"data row8 col21\" >1</td>\n",
              "      <td id=\"T_c008c_row8_col22\" class=\"data row8 col22\" >0</td>\n",
              "      <td id=\"T_c008c_row8_col23\" class=\"data row8 col23\" >0</td>\n",
              "      <td id=\"T_c008c_row8_col24\" class=\"data row8 col24\" >0.801040</td>\n",
              "    </tr>\n",
              "    <tr>\n",
              "      <th id=\"T_c008c_level0_row9\" class=\"row_heading level0 row9\" >4617</th>\n",
              "      <td id=\"T_c008c_row9_col0\" class=\"data row9 col0\" >1</td>\n",
              "      <td id=\"T_c008c_row9_col1\" class=\"data row9 col1\" >0</td>\n",
              "      <td id=\"T_c008c_row9_col2\" class=\"data row9 col2\" >0</td>\n",
              "      <td id=\"T_c008c_row9_col3\" class=\"data row9 col3\" >1</td>\n",
              "      <td id=\"T_c008c_row9_col4\" class=\"data row9 col4\" >-1.280248</td>\n",
              "      <td id=\"T_c008c_row9_col5\" class=\"data row9 col5\" >1</td>\n",
              "      <td id=\"T_c008c_row9_col6\" class=\"data row9 col6\" >1</td>\n",
              "      <td id=\"T_c008c_row9_col7\" class=\"data row9 col7\" >0</td>\n",
              "      <td id=\"T_c008c_row9_col8\" class=\"data row9 col8\" >0</td>\n",
              "      <td id=\"T_c008c_row9_col9\" class=\"data row9 col9\" >0</td>\n",
              "      <td id=\"T_c008c_row9_col10\" class=\"data row9 col10\" >0</td>\n",
              "      <td id=\"T_c008c_row9_col11\" class=\"data row9 col11\" >1</td>\n",
              "      <td id=\"T_c008c_row9_col12\" class=\"data row9 col12\" >1</td>\n",
              "      <td id=\"T_c008c_row9_col13\" class=\"data row9 col13\" >1</td>\n",
              "      <td id=\"T_c008c_row9_col14\" class=\"data row9 col14\" >0.947412</td>\n",
              "      <td id=\"T_c008c_row9_col15\" class=\"data row9 col15\" >-0.966201</td>\n",
              "      <td id=\"T_c008c_row9_col16\" class=\"data row9 col16\" >1</td>\n",
              "      <td id=\"T_c008c_row9_col17\" class=\"data row9 col17\" >0</td>\n",
              "      <td id=\"T_c008c_row9_col18\" class=\"data row9 col18\" >0</td>\n",
              "      <td id=\"T_c008c_row9_col19\" class=\"data row9 col19\" >0</td>\n",
              "      <td id=\"T_c008c_row9_col20\" class=\"data row9 col20\" >0</td>\n",
              "      <td id=\"T_c008c_row9_col21\" class=\"data row9 col21\" >1</td>\n",
              "      <td id=\"T_c008c_row9_col22\" class=\"data row9 col22\" >0</td>\n",
              "      <td id=\"T_c008c_row9_col23\" class=\"data row9 col23\" >1</td>\n",
              "      <td id=\"T_c008c_row9_col24\" class=\"data row9 col24\" >0.797978</td>\n",
              "    </tr>\n",
              "  </tbody>\n",
              "</table>\n"
            ],
            "text/plain": [
              "<pandas.io.formats.style.Styler at 0x1c746d39b20>"
            ]
          },
          "metadata": {},
          "output_type": "display_data"
        }
      ],
      "source": [
        "# Obtener probabilidades de clase 1 (Churn = 1) para el conjunto de test\n",
        "y_proba_test = best_lr.predict_proba(X_test)[:, 1]\n",
        "\n",
        "# Crear DataFrame con los resultados\n",
        "df_test_resultados = X_test.copy()\n",
        "df_test_resultados['Churn_real'] = y_test\n",
        "df_test_resultados['Probabilidad_Churn'] = y_proba_test\n",
        "\n",
        "# Ordenar por mayor probabilidad de renuncia\n",
        "top_10_clientes = df_test_resultados.sort_values(by='Probabilidad_Churn', ascending=False).head(10)\n",
        "\n",
        "# Visualizar\n",
        "display(HTML(\"<h4><b>Top 10 clientes con mayor probabilidad de renunciar (Modelo: Regresión Logística):</b></h4>\"))\n",
        "display(top_10_clientes.style.background_gradient(cmap='Reds', subset=['Probabilidad_Churn']))"
      ]
    },
    {
      "cell_type": "markdown",
      "id": "e6dc8732-2c6e-4ebb-82fe-af08e0500230",
      "metadata": {
        "id": "e6dc8732-2c6e-4ebb-82fe-af08e0500230"
      },
      "source": [
        "> ### TOP 10 CARACTERÍSTICAS MÁS IMPORTANTES DEL MODELO ESCOGIDO DE REGRESIÓN LOGÍSTICA"
      ]
    },
    {
      "cell_type": "code",
      "execution_count": null,
      "id": "a262422a-52fd-49a5-82bc-600ab6231239",
      "metadata": {
        "id": "a262422a-52fd-49a5-82bc-600ab6231239",
        "outputId": "db1b6de8-e468-45c1-b310-73eb54a6ebe5"
      },
      "outputs": [
        {
          "data": {
            "text/html": [
              "<h5><b>Top 10 características más importantes (Regresión Logística):</b></h5>"
            ],
            "text/plain": [
              "<IPython.core.display.HTML object>"
            ]
          },
          "metadata": {},
          "output_type": "display_data"
        },
        {
          "name": "stdout",
          "output_type": "stream",
          "text": [
            "                           Feature  Importance\n",
            "4                           tenure    1.319772\n",
            "19               Contract_Two year    1.284978\n",
            "17              InternetService_No    0.851248\n",
            "16     InternetService_Fiber optic    0.801077\n",
            "18               Contract_One year    0.705017\n",
            "15                    TotalCharges    0.613126\n",
            "10                     TechSupport    0.432112\n",
            "5                     PhoneService    0.409722\n",
            "13                PaperlessBilling    0.372282\n",
            "21  PaymentMethod_Electronic check    0.360264\n"
          ]
        },
        {
          "data": {
            "image/png": "[encoded data removed]",
            "text/plain": [
              "<Figure size 640x480 with 1 Axes>"
            ]
          },
          "metadata": {},
          "output_type": "display_data"
        }
      ],
      "source": [
        "# Obtener la importancia de cada atributo a partir de los coeficientes absolutos\n",
        "importancias_lr = pd.DataFrame({\n",
        "    'Feature': X.columns,\n",
        "    'Importance': abs(best_lr.coef_[0])  # Valor absoluto de los coeficientes\n",
        "}).sort_values(by='Importance', ascending=False)\n",
        "\n",
        "# Seleccionar las 10 características más importantes\n",
        "top10_lr = importancias_lr.head(10)\n",
        "\n",
        "# Mostrar tabla de top 10 características\n",
        "from IPython.display import display, HTML\n",
        "display(HTML(\"<h5><b>Top 10 características más importantes (Regresión Logística):</b></h5>\"))\n",
        "print(top10_lr)\n",
        "\n",
        "# Visualizar las 10 variables más importantes\n",
        "import seaborn as sns\n",
        "import matplotlib.pyplot as plt\n",
        "\n",
        "sns.barplot(x='Importance', y='Feature', data=top10_lr, palette='viridis')\n",
        "plt.title('Top 10 características más importantes (Regresión Logística)')\n",
        "plt.xlabel('Importancia (Valor absoluto de los coeficientes)')\n",
        "plt.ylabel('Atributo')\n",
        "plt.show()"
      ]
    },
    {
      "cell_type": "markdown",
      "id": "ca48a96c-29e1-46c3-8a28-b169912eb972",
      "metadata": {
        "id": "ca48a96c-29e1-46c3-8a28-b169912eb972"
      },
      "source": [
        "> ### MENOR O MAYOR PROBABILIDAD DE CHURN POR CARACTERÍSTICAS"
      ]
    },
    {
      "cell_type": "code",
      "execution_count": null,
      "id": "843f026d-3170-43da-bdaa-a2cfbf16882f",
      "metadata": {
        "id": "843f026d-3170-43da-bdaa-a2cfbf16882f",
        "outputId": "4f05dc8b-377b-4edb-8dd9-ab27e91d0cf7"
      },
      "outputs": [
        {
          "data": {
            "text/html": [
              "<style type=\"text/css\">\n",
              "</style>\n",
              "<table id=\"T_70a26\">\n",
              "  <thead>\n",
              "    <tr>\n",
              "      <th id=\"T_70a26_level0_col0\" class=\"col_heading level0 col0\" >Feature</th>\n",
              "      <th id=\"T_70a26_level0_col1\" class=\"col_heading level0 col1\" >Importance</th>\n",
              "      <th id=\"T_70a26_level0_col2\" class=\"col_heading level0 col2\" >Probabilidad_Churn</th>\n",
              "    </tr>\n",
              "  </thead>\n",
              "  <tbody>\n",
              "    <tr>\n",
              "      <td id=\"T_70a26_row0_col0\" class=\"data row0 col0\" >tenure</td>\n",
              "      <td id=\"T_70a26_row0_col1\" class=\"data row0 col1\" >1.319772</td>\n",
              "      <td id=\"T_70a26_row0_col2\" class=\"data row0 col2\" >Menor</td>\n",
              "    </tr>\n",
              "    <tr>\n",
              "      <td id=\"T_70a26_row1_col0\" class=\"data row1 col0\" >Contract_Two year</td>\n",
              "      <td id=\"T_70a26_row1_col1\" class=\"data row1 col1\" >1.284978</td>\n",
              "      <td id=\"T_70a26_row1_col2\" class=\"data row1 col2\" >Mayor</td>\n",
              "    </tr>\n",
              "    <tr>\n",
              "      <td id=\"T_70a26_row2_col0\" class=\"data row2 col0\" >InternetService_No</td>\n",
              "      <td id=\"T_70a26_row2_col1\" class=\"data row2 col1\" >0.851248</td>\n",
              "      <td id=\"T_70a26_row2_col2\" class=\"data row2 col2\" >Menor</td>\n",
              "    </tr>\n",
              "    <tr>\n",
              "      <td id=\"T_70a26_row3_col0\" class=\"data row3 col0\" >InternetService_Fiber optic</td>\n",
              "      <td id=\"T_70a26_row3_col1\" class=\"data row3 col1\" >0.801077</td>\n",
              "      <td id=\"T_70a26_row3_col2\" class=\"data row3 col2\" >Menor</td>\n",
              "    </tr>\n",
              "    <tr>\n",
              "      <td id=\"T_70a26_row4_col0\" class=\"data row4 col0\" >Contract_One year</td>\n",
              "      <td id=\"T_70a26_row4_col1\" class=\"data row4 col1\" >0.705017</td>\n",
              "      <td id=\"T_70a26_row4_col2\" class=\"data row4 col2\" >Menor</td>\n",
              "    </tr>\n",
              "    <tr>\n",
              "      <td id=\"T_70a26_row5_col0\" class=\"data row5 col0\" >TotalCharges</td>\n",
              "      <td id=\"T_70a26_row5_col1\" class=\"data row5 col1\" >0.613126</td>\n",
              "      <td id=\"T_70a26_row5_col2\" class=\"data row5 col2\" >Menor</td>\n",
              "    </tr>\n",
              "    <tr>\n",
              "      <td id=\"T_70a26_row6_col0\" class=\"data row6 col0\" >TechSupport</td>\n",
              "      <td id=\"T_70a26_row6_col1\" class=\"data row6 col1\" >0.432112</td>\n",
              "      <td id=\"T_70a26_row6_col2\" class=\"data row6 col2\" >Mayor</td>\n",
              "    </tr>\n",
              "    <tr>\n",
              "      <td id=\"T_70a26_row7_col0\" class=\"data row7 col0\" >PhoneService</td>\n",
              "      <td id=\"T_70a26_row7_col1\" class=\"data row7 col1\" >0.409722</td>\n",
              "      <td id=\"T_70a26_row7_col2\" class=\"data row7 col2\" >Menor</td>\n",
              "    </tr>\n",
              "    <tr>\n",
              "      <td id=\"T_70a26_row8_col0\" class=\"data row8 col0\" >PaperlessBilling</td>\n",
              "      <td id=\"T_70a26_row8_col1\" class=\"data row8 col1\" >0.372282</td>\n",
              "      <td id=\"T_70a26_row8_col2\" class=\"data row8 col2\" >Menor</td>\n",
              "    </tr>\n",
              "    <tr>\n",
              "      <td id=\"T_70a26_row9_col0\" class=\"data row9 col0\" >PaymentMethod_Electronic check</td>\n",
              "      <td id=\"T_70a26_row9_col1\" class=\"data row9 col1\" >0.360264</td>\n",
              "      <td id=\"T_70a26_row9_col2\" class=\"data row9 col2\" >Menor</td>\n",
              "    </tr>\n",
              "  </tbody>\n",
              "</table>\n"
            ],
            "text/plain": [
              "<pandas.io.formats.style.Styler at 0x1c753c1f880>"
            ]
          },
          "metadata": {},
          "output_type": "display_data"
        }
      ],
      "source": [
        "# Crear DataFrame con signo de coeficientes\n",
        "importancias_lr['Efecto'] = importancias_lr['Importance'] * np.sign(best_lr.coef_[0])\n",
        "importancias_lr['Probabilidad_Churn'] = importancias_lr['Efecto'].apply(lambda x: 'Mayor' if x > 0 else 'Menor')\n",
        "\n",
        "# Seleccionar top 10 características por importancia\n",
        "top10_lr = importancias_lr.sort_values(by='Importance', ascending=False).head(10)\n",
        "\n",
        "# Mostrar tabla sin índice\n",
        "display(top10_lr[['Feature', 'Importance', 'Probabilidad_Churn']].style.hide_index())"
      ]
    },
    {
      "cell_type": "markdown",
      "id": "9d4d367c-a90f-4e10-8598-78c15770191c",
      "metadata": {
        "id": "9d4d367c-a90f-4e10-8598-78c15770191c"
      },
      "source": [
        "## 🔹 Observaciones generales:\n",
        "\n",
        "- La columna **Importance** muestra qué tan relevante es cada característica para predecir churn según la regresión logística (coeficientes absolutos).  \n",
        "- La columna **Probabilidad_Churn** indica si la característica aumenta (“Mayor”) o disminuye (“Menor”) la probabilidad de que un cliente se vaya.  \n",
        "\n",
        "\n",
        "## 🔹 Insights por característica:\n",
        "\n",
        "- **tenure (1.32, Menor):** Clientes con más tiempo de permanencia tienen menos probabilidad de churn. Es la característica más importante y protege contra la renuncia.\n",
        "\n",
        "- **Contract_Two year (1.28, Mayor):** Tener un contrato de dos años aumenta la probabilidad de churn según el modelo.\n",
        "\n",
        "- **InternetService_No (0.85, Menor):** Clientes sin servicio de Internet tienen menor probabilidad de churn.\n",
        "\n",
        "- **InternetService_Fiber optic (0.80, Menor):** La red por fibra óptica es más estable, se asocia con menor churn.\n",
        "\n",
        "- **Contract_One year (0.70, Menor):** Contratos de un año disminuyen el churn, al contrario del contrato de dos años.\n",
        "\n",
        "- **TotalCharges (0.61, Menor):** Clientes con mayor gasto total tienden a quedarse más tiempo.\n",
        "\n",
        "- **TechSupport (0.43, Mayor):** Tener soporte técnico se asocia con mayor churn. Podría indicar que quienes usan soporte tienen problemas recurrentes y podrían irse.\n",
        "\n",
        "- **PhoneService (0.41, Menor):** Tener servicio de teléfono disminuye la probabilidad de churn.\n",
        "\n",
        "- **PaperlessBilling (0.37, Menor):** Facturación electrónica se asocia con menor churn, aunque su importancia es baja.\n",
        "\n",
        "- **PaymentMethod_Electronic check (0.36, Menor):** Usar cheque electrónico disminuye ligeramente el churn, siendo la menos influyente de estas 10\n",
        "características.\n",
        "\n",
        "\n",
        "## 🔹 Recomendaciones para reducir churn\n",
        "\n",
        "- **Fidelizar clientes antiguos:** Ofrecer beneficios y reforzar comunicación para quienes llevan más tiempo con el servicio.  \n",
        "- **Revisar contratos largos:** Analizar los contratos de dos años y ofrecer flexibilidad o incentivos para mantenerlos.  \n",
        "- **Mejorar soporte técnico:** Optimizar tiempos de respuesta, seguimiento proactivo y recursos de autoservicio.  \n",
        "- **Fortalecer experiencia de Internet:** Garantizar estabilidad, velocidad y paquetes atractivos según el tipo de servicio.  \n",
        "- **Incentivar servicios complementarios:** Combinar teléfono, Internet y soporte para aumentar la retención.  \n",
        "- **Facilitar facturación y pagos:** Promover facturación electrónica y recordatorios de pago.  \n",
        "- **Monitorear gastos de clientes:** Identificar clientes de bajo gasto y ofrecer promociones, premiar clientes de alto gasto."
      ]
    },
    {
      "cell_type": "code",
      "execution_count": null,
      "id": "b3ed7e16-b60f-4f76-8956-250a022db52a",
      "metadata": {
        "id": "b3ed7e16-b60f-4f76-8956-250a022db52a"
      },
      "outputs": [],
      "source": []
    }
  ],
  "metadata": {
    "kernelspec": {
      "display_name": "Python 3 (ipykernel)",
      "language": "python",
      "name": "python3"
    },
    "language_info": {
      "codemirror_mode": {
        "name": "ipython",
        "version": 3
      },
      "file_extension": ".py",
      "mimetype": "text/x-python",
      "name": "python",
      "nbconvert_exporter": "python",
      "pygments_lexer": "ipython3",
      "version": "3.9.4"
    },
    "colab": {
      "provenance": [],
      "include_colab_link": true
    }
  },
  "nbformat": 4,
  "nbformat_minor": 5
}